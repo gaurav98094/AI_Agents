{
 "cells": [
  {
   "cell_type": "markdown",
   "id": "f9b20fc1",
   "metadata": {},
   "source": [
    "# Planning Pattern\n",
    "\n",
    "- Implementing planning Pttern from scratch."
   ]
  },
  {
   "cell_type": "code",
   "execution_count": 2,
   "id": "f48cb4bb",
   "metadata": {},
   "outputs": [
    {
     "data": {
      "text/plain": [
       "True"
      ]
     },
     "execution_count": 2,
     "metadata": {},
     "output_type": "execute_result"
    }
   ],
   "source": [
    "from litellm import completion\n",
    "import os\n",
    "from dotenv import load_dotenv\n",
    "load_dotenv()"
   ]
  },
  {
   "cell_type": "markdown",
   "id": "99e73c73",
   "metadata": {},
   "source": [
    "### Define Agent Class\n",
    "- system : is system prompt that sets the perosnality of an agent.\n",
    "- messages : act as conversation memory."
   ]
  },
  {
   "cell_type": "code",
   "execution_count": 3,
   "id": "c1724bdf",
   "metadata": {},
   "outputs": [],
   "source": [
    "class MyAgent:\n",
    "    def __init__(self, system = \"\"):\n",
    "        self.system = system\n",
    "        self.messages = []\n",
    "        if self.system:\n",
    "            self.messages.append({\"role\": \"system\", \"content\": system})\n",
    "            \n",
    "    def complete(self, message=\"\"):\n",
    "        if message:\n",
    "            self.messages.append({\"role\": \"user\", \"content\": message})\n",
    "        result = self.invoke()\n",
    "        self.messages.append({\"role\": \"assistant\", \"content\": result})\n",
    "        return result\n",
    "        \n",
    "    def invoke(self):\n",
    "        llm_response = completion(model=\"openai/gpt-4o\", messages=self.messages)\n",
    "        return llm_response.choices[0].message.content"
   ]
  },
  {
   "cell_type": "code",
   "execution_count": 4,
   "id": "95d1dcf5",
   "metadata": {},
   "outputs": [
    {
     "data": {
      "text/plain": [
       "'Agentic AI refers to artificial intelligence systems that possess qualities akin to agency, meaning they have the capacity to act independently, make decisions, and pursue goals based on their programming and learning. These systems can interpret their environment, perform tasks without constant human oversight, and adapt to new situations to achieve their objectives.\\n\\nAgentic AI often involves decision-making processes, autonomy, goal-directed behavior, and sometimes learning mechanisms that enable the system to improve its performance over time. It can be contrasted with reactive AI, which operates based on pre-defined rules and responses without the capacity for independent decision-making or goal-setting.\\n\\nExamples of Agentic AI might include autonomous vehicles, advanced robotics systems, and AI-driven virtual assistants that can manage complex workflows without direct human intervention. The development of Agentic AI is a significant area of research, with implications for ethics, safety, and the role of AI in society.'"
      ]
     },
     "execution_count": 4,
     "metadata": {},
     "output_type": "execute_result"
    }
   ],
   "source": [
    "my_agent = MyAgent(system=\"You are a helpful assistant.\")\n",
    "\n",
    "my_agent.complete(\"What is Agentic AI?\")"
   ]
  },
  {
   "cell_type": "markdown",
   "id": "b051c780",
   "metadata": {},
   "source": [
    "### Define System Prompt For Planning"
   ]
  },
  {
   "cell_type": "code",
   "execution_count": null,
   "id": "4909bbd8",
   "metadata": {},
   "outputs": [],
   "source": [
    "system_prompt = \"\"\"\n",
    "You are a smart planning agent.\n",
    "You act in iterations and do JUST ONE thing in a single iteration:\n",
    "\n",
    "1) \"Plan\" to plan the steps needed to answer the question.\n",
    "2) \"Execute\" to execute the planned steps, one step at a time.\n",
    "3) \"Observation\" to get the output of the execution.\n",
    "4) \"Collect\" to just collect the result of all the steps.\n",
    "5) \"Answer\" to answer the user's question using the collected results.\n",
    "\n",
    "So to summarize, to answer a question, you will:\n",
    "- Think through the entire solution first, listing each step clearly before taking an action.\n",
    "- Then execute each step in order by calling one of the available tools.\n",
    "- Collect all the individual results.\n",
    "- Finally, answer the user's question using the collected results.\n",
    "\n",
    "Here are the tools available to you:\n",
    "\n",
    "math:\n",
    "Use this to evaluate math expressions using Python syntax.\n",
    "Example: math: (125000000 + 1400000000)\n",
    "\n",
    "lookup_population:\n",
    "Use this to get the population of a country.\n",
    "Example: lookup_population: Japan\n",
    "\n",
    "You must first output a PLAN and then execute each step, showing the result after each one.\n",
    "At the end, output the FINAL ANSWER.\n",
    "\n",
    "---\n",
    "\n",
    "Here's a sample run for your reference:\n",
    "\n",
    "Question: What is the population of Japan plus the population of India?\n",
    "\n",
    "<Iteration 1>\n",
    "Plan:\n",
    "1. Use lookup_population on Japan.\n",
    "2. Use lookup_population on India.\n",
    "3. Use math to add the two populations.\n",
    "</Iteration 1>\n",
    "\n",
    "<Iteration 2>\n",
    "Execute:\n",
    "Step 1: lookup_population: Japan\n",
    "</Iteration 2>\n",
    "\n",
    "<Iteration 3>\n",
    "Observation: 125000000\n",
    "</Iteration 3>\n",
    "\n",
    "<Iteration 4>\n",
    "Execute:\n",
    "Step 2: lookup_population: India\n",
    "</Iteration 4>\n",
    "\n",
    "<Iteration 5>\n",
    "Observation: 1400000000\n",
    "</Iteration 5>\n",
    "\n",
    "<Iteration 6>\n",
    "Execute:\n",
    "Step 3: math: (125000000 + 1400000000)\n",
    "</Iteration 6>\n",
    "\n",
    "<Iteration 7>\n",
    "Observation: 1525000000\n",
    "</Iteration 7>\n",
    "\n",
    "<Iteration 8>\n",
    "Collect:\n",
    "- Step 1: Japan population: 125000000\n",
    "- Step 2: India population: 1400000000\n",
    "- Step 3: Total population: 1525000000\n",
    "</Iteration 8>\n",
    "\n",
    "You will now have everything you need to answer the question, which you need to output in the next iteration.\n",
    "\n",
    "<Iteration 9>\n",
    "Answer:\n",
    "The total population of Japan and India is approximately 1.525 billion.\n",
    "</Iteration 9>\n",
    "\n",
    "Now begin solving\n",
    "\"\"\".strip()"
   ]
  },
  {
   "cell_type": "code",
   "execution_count": null,
   "id": "032f2b56",
   "metadata": {},
   "outputs": [],
   "source": [
    "def math(expression: str):\n",
    "    return eval(expression)\n",
    "\n",
    "def lookup_population(country: str):\n",
    "    populations = {\n",
    "        \"India\": 1_400_000_000,\n",
    "        \"Japan\": 125_000_000,\n",
    "        \"United States\": 330_000_000,\n",
    "        \"Brazil\": 210_000_000,\n",
    "        \"Indonesia\": 270_000_000,\n",
    "        \"Mexico\": 126_000_000,\n",
    "        \"Russia\": 145_000_000,\n",
    "        \"United Kingdom\": 67_000_000\n",
    "    }\n",
    "    return populations.get(country, \"Country not found\")\n"
   ]
  },
  {
   "cell_type": "code",
   "execution_count": null,
   "id": "2c10de2f",
   "metadata": {},
   "outputs": [],
   "source": [
    "my_agent = MyAgent(system=system_prompt)\n",
    "\n",
    "my_agent.complete(\"\"\"What is the population of India\n",
    "                     plus the population of Japan?\"\"\")"
   ]
  },
  {
   "cell_type": "code",
   "execution_count": null,
   "id": "682e51aa",
   "metadata": {},
   "outputs": [],
   "source": [
    "output = lookup_population(\"Japan\")\n",
    "\n",
    "my_planning_agent.complete(f\"<Iteration 3>\\nObservation: {output}\\n</Iteration 3>\")"
   ]
  }
 ],
 "metadata": {
  "kernelspec": {
   "display_name": "agents",
   "language": "python",
   "name": "python3"
  },
  "language_info": {
   "codemirror_mode": {
    "name": "ipython",
    "version": 3
   },
   "file_extension": ".py",
   "mimetype": "text/x-python",
   "name": "python",
   "nbconvert_exporter": "python",
   "pygments_lexer": "ipython3",
   "version": "3.11.11"
  }
 },
 "nbformat": 4,
 "nbformat_minor": 5
}
