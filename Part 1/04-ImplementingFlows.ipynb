{
 "cells": [
  {
   "cell_type": "markdown",
   "id": "6e061281",
   "metadata": {},
   "source": [
    "## Implementing Flows\n",
    "\n",
    "\n",
    "<b>Aim : </b> Generate a random movie genre and suggest a popular movie."
   ]
  },
  {
   "cell_type": "code",
   "execution_count": 1,
   "id": "4082383a",
   "metadata": {},
   "outputs": [],
   "source": [
    "# !pip install crewai\n",
    "# !pip install crewai-tools"
   ]
  },
  {
   "cell_type": "code",
   "execution_count": 9,
   "id": "90942c67",
   "metadata": {},
   "outputs": [],
   "source": [
    "from dotenv import load_dotenv\n",
    "load_dotenv()\n",
    "\n",
    "from crewai import Agent, Task, Crew\n",
    "from crewai.flow.flow import Flow, start, listen\n",
    "\n",
    "import openai\n",
    "import os\n",
    "\n",
    "openai_client = openai.OpenAI(api_key = os.getenv(\"OPENAI_API_KEY\"))"
   ]
  },
  {
   "cell_type": "code",
   "execution_count": 32,
   "id": "195efbec",
   "metadata": {},
   "outputs": [],
   "source": [
    "class MovieRecommendationFlow(Flow):\n",
    "    \n",
    "    @start()\n",
    "    def generate_genre(self):\n",
    "        response = openai_client.chat.completions.create(\n",
    "            model = \"gpt-4o-mini\",\n",
    "            messages = [\n",
    "                {\n",
    "                    \"role\" : \"user\",\n",
    "                    \"content\" : \"Give me a random movie genre.\"\n",
    "                }\n",
    "            ]\n",
    "        )\n",
    "\n",
    "        random_genre = response.choices[0].message.content.strip()\n",
    "        self.state['genre'] = random_genre\n",
    "        return random_genre\n",
    "    \n",
    "\n",
    "    @listen(generate_genre)\n",
    "    def recomment_movie(self, random_genre):\n",
    "        response = openai_client.chat.completions.create(\n",
    "            model = \"gpt-4o-mini\",\n",
    "            messages = [\n",
    "                {\n",
    "                    \"role\" : \"user\",\n",
    "                    \"content\" : f\"Recommend a movie in the genre of {random_genre}.\"\n",
    "                }\n",
    "            ]\n",
    "        )\n",
    "\n",
    "        movie_recommendation = response.choices[0].message.content.strip()\n",
    "        self.state['recommendation'] = movie_recommendation\n",
    "        return movie_recommendation"
   ]
  },
  {
   "cell_type": "code",
   "execution_count": 33,
   "id": "20f51ab2",
   "metadata": {},
   "outputs": [
    {
     "name": "stdout",
     "output_type": "stream",
     "text": [
      "\u001b[34m╭─\u001b[0m\u001b[34m──────────────────────────────\u001b[0m\u001b[34m Flow Execution \u001b[0m\u001b[34m──────────────────────────────\u001b[0m\u001b[34m─╮\u001b[0m\n",
      "\u001b[34m│\u001b[0m                                                                              \u001b[34m│\u001b[0m\n",
      "\u001b[34m│\u001b[0m  \u001b[1;34mStarting Flow Execution\u001b[0m                                                     \u001b[34m│\u001b[0m\n",
      "\u001b[34m│\u001b[0m  \u001b[37mName: \u001b[0m\u001b[34mMovieRecommendationFlow\u001b[0m                                               \u001b[34m│\u001b[0m\n",
      "\u001b[34m│\u001b[0m  \u001b[37mID: \u001b[0m\u001b[34mbf267161-9a56-4aed-9ead-c1175878d02c\u001b[0m                                    \u001b[34m│\u001b[0m\n",
      "\u001b[34m│\u001b[0m                                                                              \u001b[34m│\u001b[0m\n",
      "\u001b[34m│\u001b[0m                                                                              \u001b[34m│\u001b[0m\n",
      "\u001b[34m╰──────────────────────────────────────────────────────────────────────────────╯\u001b[0m\n",
      "\n",
      "\u001b[1;34m🌊 Flow: \u001b[0m\u001b[34mMovieRecommendationFlow\u001b[0m\n",
      "\u001b[37m    ID: \u001b[0m\u001b[34mbf267161-9a56-4aed-9ead-c1175878d02c\u001b[0m\n",
      "└── \u001b[33m🧠 Starting Flow...\u001b[0m\n",
      "\n",
      "\u001b[1m\u001b[35m Flow started with ID: bf267161-9a56-4aed-9ead-c1175878d02c\u001b[00m\n",
      "\u001b[1;34m🌊 Flow: \u001b[0m\u001b[34mMovieRecommendationFlow\u001b[0m\n",
      "\u001b[37m    ID: \u001b[0m\u001b[34mbf267161-9a56-4aed-9ead-c1175878d02c\u001b[0m\n",
      "├── \u001b[33m🧠 Starting Flow...\u001b[0m\n",
      "└── \u001b[1;33m🔄 Running:\u001b[0m\u001b[1;33m generate_genre\u001b[0m\n",
      "\n",
      "\u001b[1;34m🌊 Flow: \u001b[0m\u001b[34mMovieRecommendationFlow\u001b[0m\n",
      "\u001b[37m    ID: \u001b[0m\u001b[34mbf267161-9a56-4aed-9ead-c1175878d02c\u001b[0m\n",
      "├── \u001b[37mFlow Method Step\u001b[0m\n",
      "└── \u001b[1;32m✅ Completed:\u001b[0m\u001b[1;32m generate_genre\u001b[0m\n",
      "\n",
      "\u001b[1;34m🌊 Flow: \u001b[0m\u001b[34mMovieRecommendationFlow\u001b[0m\n",
      "\u001b[37m    ID: \u001b[0m\u001b[34mbf267161-9a56-4aed-9ead-c1175878d02c\u001b[0m\n",
      "├── \u001b[37mFlow Method Step\u001b[0m\n",
      "├── \u001b[1;32m✅ Completed:\u001b[0m\u001b[1;32m generate_genre\u001b[0m\n",
      "└── \u001b[1;33m🔄 Running:\u001b[0m\u001b[1;33m recomment_movie\u001b[0m\n",
      "\n",
      "\u001b[1;34m🌊 Flow: \u001b[0m\u001b[34mMovieRecommendationFlow\u001b[0m\n",
      "\u001b[37m    ID: \u001b[0m\u001b[34mbf267161-9a56-4aed-9ead-c1175878d02c\u001b[0m\n",
      "├── \u001b[37mFlow Method Step\u001b[0m\n",
      "├── \u001b[1;32m✅ Completed:\u001b[0m\u001b[1;32m generate_genre\u001b[0m\n",
      "└── \u001b[1;32m✅ Completed:\u001b[0m\u001b[1;32m recomment_movie\u001b[0m\n",
      "\n",
      "\u001b[1;32m✅ Flow Finished: \u001b[0m\u001b[32mMovieRecommendationFlow\u001b[0m\n",
      "├── \u001b[37mFlow Method Step\u001b[0m\n",
      "├── \u001b[1;32m✅ Completed:\u001b[0m\u001b[1;32m generate_genre\u001b[0m\n",
      "└── \u001b[1;32m✅ Completed:\u001b[0m\u001b[1;32m recomment_movie\u001b[0m\n",
      "\u001b[32m╭─\u001b[0m\u001b[32m─────────────────────────────\u001b[0m\u001b[32m Flow Completion \u001b[0m\u001b[32m──────────────────────────────\u001b[0m\u001b[32m─╮\u001b[0m\n",
      "\u001b[32m│\u001b[0m                                                                              \u001b[32m│\u001b[0m\n",
      "\u001b[32m│\u001b[0m  \u001b[1;32mFlow Execution Completed\u001b[0m                                                    \u001b[32m│\u001b[0m\n",
      "\u001b[32m│\u001b[0m  \u001b[37mName: \u001b[0m\u001b[32mMovieRecommendationFlow\u001b[0m                                               \u001b[32m│\u001b[0m\n",
      "\u001b[32m│\u001b[0m  \u001b[37mID: \u001b[0m\u001b[32mbf267161-9a56-4aed-9ead-c1175878d02c\u001b[0m                                    \u001b[32m│\u001b[0m\n",
      "\u001b[32m│\u001b[0m                                                                              \u001b[32m│\u001b[0m\n",
      "\u001b[32m│\u001b[0m                                                                              \u001b[32m│\u001b[0m\n",
      "\u001b[32m╰──────────────────────────────────────────────────────────────────────────────╯\u001b[0m\n",
      "\n",
      "A great psychological thriller to watch is \"Gone Girl\" (2014), directed by David Fincher. The film is based on the novel by Gillian Flynn and follows the story of Nick Dunne, whose wife, Amy, goes missing on their fifth wedding anniversary. As the investigation unfolds, secrets about their marriage and Amy's mysterious past come to light, leading to unexpected twists and a gripping exploration of media perception and deceit. The performances by Ben Affleck and Rosamund Pike are particularly noteworthy, making this film a compelling choice for fans of the genre.\n"
     ]
    }
   ],
   "source": [
    "flow = MovieRecommendationFlow()\n",
    "\n",
    "final_result = await flow.kickoff_async()\n",
    "\n",
    "print(final_result)"
   ]
  },
  {
   "cell_type": "code",
   "execution_count": 34,
   "id": "90c16800",
   "metadata": {},
   "outputs": [
    {
     "data": {
      "text/markdown": [
       "A great psychological thriller to watch is \"Gone Girl\" (2014), directed by David Fincher. The film is based on the novel by Gillian Flynn and follows the story of Nick Dunne, whose wife, Amy, goes missing on their fifth wedding anniversary. As the investigation unfolds, secrets about their marriage and Amy's mysterious past come to light, leading to unexpected twists and a gripping exploration of media perception and deceit. The performances by Ben Affleck and Rosamund Pike are particularly noteworthy, making this film a compelling choice for fans of the genre."
      ],
      "text/plain": [
       "<IPython.core.display.Markdown object>"
      ]
     },
     "metadata": {},
     "output_type": "display_data"
    }
   ],
   "source": [
    "from IPython import display\n",
    "display.display(display.Markdown(f\"{final_result}\"))"
   ]
  },
  {
   "cell_type": "code",
   "execution_count": 35,
   "id": "0b56a57c",
   "metadata": {},
   "outputs": [
    {
     "data": {
      "text/plain": [
       "{'id': 'bf267161-9a56-4aed-9ead-c1175878d02c',\n",
       " 'genre': 'How about \"psychological thriller\"?',\n",
       " 'recommendation': 'A great psychological thriller to watch is \"Gone Girl\" (2014), directed by David Fincher. The film is based on the novel by Gillian Flynn and follows the story of Nick Dunne, whose wife, Amy, goes missing on their fifth wedding anniversary. As the investigation unfolds, secrets about their marriage and Amy\\'s mysterious past come to light, leading to unexpected twists and a gripping exploration of media perception and deceit. The performances by Ben Affleck and Rosamund Pike are particularly noteworthy, making this film a compelling choice for fans of the genre.'}"
      ]
     },
     "execution_count": 35,
     "metadata": {},
     "output_type": "execute_result"
    }
   ],
   "source": [
    "flow.state"
   ]
  }
 ],
 "metadata": {
  "kernelspec": {
   "display_name": "agents",
   "language": "python",
   "name": "python3"
  },
  "language_info": {
   "codemirror_mode": {
    "name": "ipython",
    "version": 3
   },
   "file_extension": ".py",
   "mimetype": "text/x-python",
   "name": "python",
   "nbconvert_exporter": "python",
   "pygments_lexer": "ipython3",
   "version": "3.11.11"
  }
 },
 "nbformat": 4,
 "nbformat_minor": 5
}
