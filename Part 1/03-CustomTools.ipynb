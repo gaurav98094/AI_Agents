{
 "cells": [
  {
   "cell_type": "markdown",
   "id": "3435e85e",
   "metadata": {},
   "source": [
    "## Create Custom Tools\n",
    "\n",
    "<br>\n",
    "\n",
    "<b>Application :</b> Currency Converter"
   ]
  },
  {
   "cell_type": "code",
   "execution_count": 1,
   "id": "b8cf4611",
   "metadata": {},
   "outputs": [
    {
     "data": {
      "text/plain": [
       "True"
      ]
     },
     "execution_count": 1,
     "metadata": {},
     "output_type": "execute_result"
    }
   ],
   "source": [
    "from dotenv import load_dotenv\n",
    "load_dotenv()"
   ]
  },
  {
   "cell_type": "code",
   "execution_count": 2,
   "id": "b416db68",
   "metadata": {},
   "outputs": [],
   "source": [
    "from crewai.tools import BaseTool\n",
    "\n",
    "from pydantic import BaseModel, Field\n",
    "from typing import Type\n",
    "import requests\n",
    "import os"
   ]
  },
  {
   "cell_type": "markdown",
   "id": "a1619ad5",
   "metadata": {},
   "source": [
    "### Creating Tools"
   ]
  },
  {
   "cell_type": "code",
   "execution_count": 3,
   "id": "a2afa364",
   "metadata": {},
   "outputs": [],
   "source": [
    "class CurrencyConverterInput(BaseModel):\n",
    "    \"\"\"Input schema for CurrencyConverterTool.\"\"\"\n",
    "    amount: float = Field(..., description=\"The amount to convert.\")\n",
    "    from_currency: str = Field(..., description=\"The source currency code (e.g., 'USD').\")\n",
    "    to_currency: str = Field(..., description=\"The target currency code (e.g., 'EUR').\")\n",
    "\n",
    "\n",
    "class CurrencyConverterTool(BaseTool):\n",
    "    name: str = \"Currency Converter Tool\"\n",
    "    description: str = \"Converts an amount from one currency to another.\"\n",
    "    args_schema: Type[BaseModel] = CurrencyConverterInput\n",
    "    api_key: str = os.getenv(\"EXCHANGE_RATE_API_KEY\") \n",
    "\n",
    "    def _run(self, amount: float, from_currency: str, to_currency: str) -> str:\n",
    "        url = f\"https://v6.exchangerate-api.com/v6/{self.api_key}/latest/{from_currency}\"\n",
    "        response = requests.get(url)\n",
    "        \n",
    "        if response.status_code != 200:\n",
    "            return \"Failed to fetch exchange rates.\"\n",
    "\n",
    "        data = response.json()\n",
    "        if \"conversion_rates\" not in data or to_currency not in data[\"conversion_rates\"]:\n",
    "            return f\"Invalid currency code: {to_currency}\"\n",
    "\n",
    "        rate = data[\"conversion_rates\"][to_currency]\n",
    "        converted_amount = amount * rate\n",
    "        return f\"{amount} {from_currency} is equivalent to {converted_amount:.2f} {to_currency}.\""
   ]
  },
  {
   "cell_type": "markdown",
   "id": "3bcf5645",
   "metadata": {},
   "source": [
    "### Creating Agents"
   ]
  },
  {
   "cell_type": "code",
   "execution_count": 4,
   "id": "025c314e",
   "metadata": {},
   "outputs": [],
   "source": [
    "from crewai import Agent\n",
    "\n",
    "currency_analyst = Agent(\n",
    "    role = \"Currency Analyst\",\n",
    "    goal = \"Provide real-time currency conversions and financial insights.\",\n",
    "    backstory=(\n",
    "        \"You are a finance expert with deep knowledge of global exchange rates.\"\n",
    "        \"You help users with currency conversion and financial decision-making.\"\n",
    "    ),\n",
    "    tools = [CurrencyConverterTool()],  # Attach our custom tool\n",
    "    verbose = True\n",
    ")"
   ]
  },
  {
   "cell_type": "markdown",
   "id": "d172481f",
   "metadata": {},
   "source": [
    "### Creating Tasks"
   ]
  },
  {
   "cell_type": "code",
   "execution_count": 5,
   "id": "49953e76",
   "metadata": {},
   "outputs": [],
   "source": [
    "from crewai import Task\n",
    "\n",
    "currency_conversion_task = Task(\n",
    "    description = (\n",
    "        \"Convert {amount} {from_currency} to {to_currency} \"\n",
    "        \"using real-time exchange rates.\"\n",
    "        \"Provide the equivalent amount and \"\n",
    "        \"explain any relevant financial context.\"\n",
    "    ),\n",
    "    expected_output = (\"A detailed response including the \"\n",
    "                     \"converted amount and financial insights.\"),\n",
    "    agent = currency_analyst\n",
    ")"
   ]
  },
  {
   "cell_type": "markdown",
   "id": "a9a56f38",
   "metadata": {},
   "source": [
    "### KickOff Crew"
   ]
  },
  {
   "cell_type": "code",
   "execution_count": 9,
   "id": "66b5c923",
   "metadata": {},
   "outputs": [
    {
     "name": "stdout",
     "output_type": "stream",
     "text": [
      "\u001b[1m\u001b[95m# Agent:\u001b[00m \u001b[1m\u001b[92mCurrency Analyst\u001b[00m\n",
      "\u001b[95m## Task:\u001b[00m \u001b[92mConvert 100 USD to EUR using real-time exchange rates.Provide the equivalent amount and explain any relevant financial context.\u001b[00m\n",
      "\n",
      "\n",
      "\u001b[1m\u001b[95m# Agent:\u001b[00m \u001b[1m\u001b[92mCurrency Analyst\u001b[00m\n",
      "\u001b[95m## Thought:\u001b[00m \u001b[92mThought: I need to convert 100 USD to EUR using the Currency Converter Tool to get the real-time exchange rate and converted amount.\u001b[00m\n",
      "\u001b[95m## Using tool:\u001b[00m \u001b[92mCurrency Converter Tool\u001b[00m\n",
      "\u001b[95m## Tool Input:\u001b[00m \u001b[92m\n",
      "\"{\\\"amount\\\": 100, \\\"from_currency\\\": \\\"USD\\\", \\\"to_currency\\\": \\\"EUR\\\"}\"\u001b[00m\n",
      "\u001b[95m## Tool Output:\u001b[00m \u001b[92m\n",
      "100.0 USD is equivalent to 87.99 EUR.\u001b[00m\n",
      "\n",
      "\n",
      "\u001b[1m\u001b[95m# Agent:\u001b[00m \u001b[1m\u001b[92mCurrency Analyst\u001b[00m\n",
      "\u001b[95m## Final Answer:\u001b[00m \u001b[92m\n",
      "100 USD is equivalent to 87.99 EUR. The exchange rate reflects current market conditions, influenced by factors such as interest rates, economic stability, and geopolitical events. Currency values fluctuate continuously due to trading activities, and understanding these dynamics can aid in making informed financial decisions.\u001b[00m\n",
      "\n",
      "\n"
     ]
    }
   ],
   "source": [
    "from crewai import Crew, Process\n",
    "\n",
    "crew = Crew(\n",
    "    agents = [currency_analyst],\n",
    "    tasks = [currency_conversion_task],\n",
    "    process = Process.sequential\n",
    ")\n",
    "\n",
    "response = crew.kickoff(\n",
    "    inputs = {\n",
    "        \"amount\": 100, \n",
    "        \"from_currency\": \"USD\",\n",
    "        \"to_currency\": \"EUR\"\n",
    "    }\n",
    ")"
   ]
  },
  {
   "cell_type": "code",
   "execution_count": 10,
   "id": "5d354d86",
   "metadata": {},
   "outputs": [
    {
     "data": {
      "text/markdown": [
       "100 USD is equivalent to 87.99 EUR. The exchange rate reflects current market conditions, influenced by factors such as interest rates, economic stability, and geopolitical events. Currency values fluctuate continuously due to trading activities, and understanding these dynamics can aid in making informed financial decisions."
      ],
      "text/plain": [
       "<IPython.core.display.Markdown object>"
      ]
     },
     "execution_count": 10,
     "metadata": {},
     "output_type": "execute_result"
    }
   ],
   "source": [
    "from IPython.display import Markdown\n",
    "Markdown(response.raw)"
   ]
  }
 ],
 "metadata": {
  "kernelspec": {
   "display_name": "agents",
   "language": "python",
   "name": "python3"
  },
  "language_info": {
   "codemirror_mode": {
    "name": "ipython",
    "version": 3
   },
   "file_extension": ".py",
   "mimetype": "text/x-python",
   "name": "python",
   "nbconvert_exporter": "python",
   "pygments_lexer": "ipython3",
   "version": "3.11.11"
  }
 },
 "nbformat": 4,
 "nbformat_minor": 5
}
