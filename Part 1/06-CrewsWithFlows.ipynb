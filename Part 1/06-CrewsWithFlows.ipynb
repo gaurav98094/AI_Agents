{
 "cells": [
  {
   "cell_type": "markdown",
   "id": "ef2b83e7",
   "metadata": {},
   "source": [
    "## Crews With Flows\n"
   ]
  },
  {
   "cell_type": "code",
   "execution_count": null,
   "id": "ab058b31",
   "metadata": {},
   "outputs": [],
   "source": [
    "# !pip install crewai\n",
    "# !pip install crewai-tools"
   ]
  },
  {
   "cell_type": "code",
   "execution_count": 1,
   "id": "6d3b5491",
   "metadata": {},
   "outputs": [],
   "source": [
    "from dotenv import load_dotenv\n",
    "load_dotenv()\n",
    "\n",
    "from crewai import Agent, Task, Crew\n",
    "from crewai.flow.flow import Flow, start, listen\n",
    "\n",
    "import openai\n",
    "import os\n",
    "\n",
    "openai_client = openai.OpenAI(api_key = os.getenv(\"OPENAI_API_KEY\"))"
   ]
  },
  {
   "cell_type": "code",
   "execution_count": null,
   "id": "3b776cd0",
   "metadata": {},
   "outputs": [],
   "source": [
    "### Go to directory test_flow"
   ]
  },
  {
   "cell_type": "code",
   "execution_count": null,
   "id": "4fad23f5",
   "metadata": {},
   "outputs": [],
   "source": [
    "from random import randint\n",
    "from crewai.flow import Flow, listen, start\n",
    "\n",
    "from pydantic import BaseModel\n",
    "\n",
    "class PoemState(BaseModel):\n",
    "    sentence_count: int = 1\n",
    "    poem: str = \"\"\n",
    "\n",
    "    \n",
    "class PoemFlow(Flow[PoemState]):\n",
    "\n",
    "    @start()\n",
    "    def generate_sentence_count(self):\n",
    "        print(\"Generating sentence count\")\n",
    "        self.state.sentence_count = randint(1, 5)\n",
    "        \n",
    "    @listen(generate_sentence_count)\n",
    "    def generate_poem(self):\n",
    "        result = PoemCrew().crew().kickoff(\n",
    "            inputs={\"sentence_count\": self.state.sentence_count}\n",
    "        )\n",
    "        self.state.poem = result.raw\n",
    "    \n",
    "    @listen(generate_poem)\n",
    "    def save_poem(self):\n",
    "        print(\"Saving poem\")\n",
    "        with open(\"poem.txt\", \"w\") as f:\n",
    "            f.write(self.state.poem)"
   ]
  }
 ],
 "metadata": {
  "kernelspec": {
   "display_name": "agents",
   "language": "python",
   "name": "python3"
  },
  "language_info": {
   "codemirror_mode": {
    "name": "ipython",
    "version": 3
   },
   "file_extension": ".py",
   "mimetype": "text/x-python",
   "name": "python",
   "nbconvert_exporter": "python",
   "pygments_lexer": "ipython3",
   "version": "3.11.11"
  }
 },
 "nbformat": 4,
 "nbformat_minor": 5
}
