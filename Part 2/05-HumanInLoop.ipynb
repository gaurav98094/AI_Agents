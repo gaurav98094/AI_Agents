{
 "cells": [
  {
   "cell_type": "markdown",
   "id": "8738b36a",
   "metadata": {},
   "source": [
    "# Human In Loop\n",
    "\n",
    "\n",
    "Below, let’s build a human-in-the-loop AI research system, where:\n",
    "\n",
    "- An AI Researcher gathers and summarizes key industry insights.\\\n",
    "- A human reviewer checks and validates the AI-generated research.\n",
    "- An AI Content Strategist writes a blog post based on the reviewed research.\n",
    "- A human reviewer ensures the content is well-structured before publishing."
   ]
  },
  {
   "cell_type": "code",
   "execution_count": null,
   "id": "4d382f2a",
   "metadata": {},
   "outputs": [],
   "source": [
    "from crewai import Agent, LLM\n",
    "\n",
    "llm = LLM(model=\"gpt-4o\")\n",
    "\n",
    "researcher_agent = Agent(\n",
    "    role=\"Senior AI Researcher\",\n",
    "    goal=\"\"\"Discover and summarize the latest\n",
    "            trends in AI and technology.\"\"\",\n",
    "    backstory=\"\"\"An expert in AI research who tracks\n",
    "                 emerging trends and their real-world applications.\"\"\",\n",
    "    verbose=True,\n",
    "    allow_delegation=False,\n",
    "    llm=llm\n",
    ")\n",
    "\n",
    "content_strategist_agent = Agent(\n",
    "    role=\"Tech Content Strategist\",\n",
    "    goal=\"\"\"Transform AI research insights\n",
    "            into compelling blog content.\"\"\",\n",
    "    backstory=\"\"\"An experienced tech writer who makes\n",
    "                 AI advancements accessible to a broad audience.\"\"\",\n",
    "    verbose=True,\n",
    "    allow_delegation=True,\n",
    "    llm=llm\n",
    ")\n",
    "\n",
    "\n",
    "from crewai import Task\n",
    "\n",
    "ai_research_task = Task(\n",
    "    description=(\n",
    "            \"Conduct a deep analysis of AI trends in 2025. \"\n",
    "            \"Identify key innovations, breakthroughs, and market shifts. \"\n",
    "            \"Before finalizing, ask a human reviewer \"\n",
    "            \"for feedback to refine the report.\"\n",
    "    ),\n",
    "    expected_output=\"\"\"A structured research summary\n",
    "                       covering AI advancements in 2025.\"\"\",\n",
    "    agent=researcher_agent,\n",
    "    human_input=True   #Human In Loop\n",
    ")\n",
    "\n",
    "blog_post_task = Task(\n",
    "    description=(\n",
    "        \"Using insights from the AI Researcher, create an \"\n",
    "        \" engaging blog post summarizing key AI advancements. \"\n",
    "        \"Ensure the post is informative and accessible. Before \"\n",
    "        \"finalizing, ask a human reviewer for approval.\"\n",
    "    ),\n",
    "    expected_output=\"A well-structured blog post on AI trends in 2025.\",\n",
    "    agent=content_strategist_agent,\n",
    "    human_input=True   #Human In Loop\n",
    ")"
   ]
  },
  {
   "cell_type": "code",
   "execution_count": null,
   "id": "03321e3e",
   "metadata": {},
   "outputs": [],
   "source": []
  }
 ],
 "metadata": {
  "language_info": {
   "name": "python"
  }
 },
 "nbformat": 4,
 "nbformat_minor": 5
}
