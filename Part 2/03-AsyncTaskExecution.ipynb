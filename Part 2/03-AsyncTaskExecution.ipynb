{
 "cells": [
  {
   "cell_type": "markdown",
   "id": "c6eac53d",
   "metadata": {},
   "source": [
    "# Asynchronous Task Execution\n",
    "\n",
    "Let’s say we are building an AI-driven research workflow where:\n",
    "\n",
    "- One agent researches AI breakthroughs.\n",
    "- Another agent analyzes AI regulations.\n",
    "- Both results are combined into a final report\n",
    "\n",
    "### Setup"
   ]
  },
  {
   "cell_type": "code",
   "execution_count": 1,
   "id": "cb357aa2",
   "metadata": {},
   "outputs": [],
   "source": [
    "# !pip install crewai\n",
    "# !pip install crewai-tools"
   ]
  },
  {
   "cell_type": "code",
   "execution_count": 2,
   "id": "78c8b8e4",
   "metadata": {},
   "outputs": [],
   "source": [
    "# ollama pull llama3.2:1b"
   ]
  },
  {
   "cell_type": "markdown",
   "id": "1d313495",
   "metadata": {},
   "source": [
    "### Imports"
   ]
  },
  {
   "cell_type": "code",
   "execution_count": 5,
   "id": "e2199c03",
   "metadata": {},
   "outputs": [
    {
     "data": {
      "text/plain": [
       "True"
      ]
     },
     "execution_count": 5,
     "metadata": {},
     "output_type": "execute_result"
    }
   ],
   "source": [
    "from dotenv import load_dotenv\n",
    "load_dotenv()"
   ]
  },
  {
   "cell_type": "code",
   "execution_count": 6,
   "id": "1440d088",
   "metadata": {},
   "outputs": [],
   "source": [
    "from pydantic import BaseModel\n",
    "\n",
    "from crewai import Agent, Task, Crew\n",
    "import json"
   ]
  },
  {
   "cell_type": "markdown",
   "id": "87a044e9",
   "metadata": {},
   "source": [
    "### Setting Pydantic Models"
   ]
  },
  {
   "cell_type": "code",
   "execution_count": 7,
   "id": "3a113615",
   "metadata": {},
   "outputs": [],
   "source": [
    "from pydantic import BaseModel\n",
    "\n",
    "class AIResearchFindings(BaseModel):\n",
    "    \"\"\"Represents structured research on AI breakthroughs.\"\"\"\n",
    "    title: str\n",
    "    key_findings: list[str]\n",
    "\n",
    "class AIRegulationFindings(BaseModel):\n",
    "    \"\"\"Represents structured research on AI regulations.\"\"\"\n",
    "    region: str\n",
    "    key_policies: list[str]\n",
    "\n",
    "class FinalAIReport(BaseModel):\n",
    "    \"\"\"Combines AI research & regulation analysis into a report.\"\"\"\n",
    "    executive_summary: str\n",
    "    key_trends: list[str]\n"
   ]
  },
  {
   "cell_type": "markdown",
   "id": "ce92b703",
   "metadata": {},
   "source": [
    "### Defining Agents"
   ]
  },
  {
   "cell_type": "code",
   "execution_count": 8,
   "id": "d311fb5a",
   "metadata": {},
   "outputs": [],
   "source": [
    "# Researcher for AI breakthroughs\n",
    "research_agent = Agent(\n",
    "    role=\"AI Researcher\",\n",
    "    goal=\"Find and summarize the latest AI breakthroughs\",\n",
    "    backstory=\"An expert AI researcher who tracks technological advancements.\",\n",
    "    verbose=True\n",
    ")\n",
    "\n",
    "# Analyst for AI regulations\n",
    "regulation_agent = Agent(\n",
    "    role=\"AI Policy Analyst\",\n",
    "    goal=\"Analyze global AI regulations and summarize policies\",\n",
    "    backstory=\"A government policy expert specializing in AI ethics and laws.\",\n",
    "    verbose=True\n",
    ")\n",
    "\n",
    "# Writer for the final AI report\n",
    "writer_agent = Agent(\n",
    "    role=\"AI Report Writer\",\n",
    "    goal=\"Write a structured report combining AI breakthroughs and regulations\",\n",
    "    backstory=\"A professional technical writer who crafts AI research reports.\",\n",
    "    verbose=True\n",
    ")"
   ]
  },
  {
   "cell_type": "markdown",
   "id": "8c0dd62d",
   "metadata": {},
   "source": [
    "### Defining Tasks"
   ]
  },
  {
   "cell_type": "code",
   "execution_count": 10,
   "id": "d5857d79",
   "metadata": {},
   "outputs": [],
   "source": [
    "# Task 1: AI Breakthroughs Research (Asynchronous)\n",
    "research_ai_task = Task(\n",
    "    description=\"\"\"Research the latest AI advancements\n",
    "                   and summarize key breakthroughs.\"\"\",\n",
    "    expected_output=\"A structured list of AI breakthroughs.\",\n",
    "    agent=research_agent,\n",
    "    output_pydantic=AIResearchFindings,\n",
    "    async_execution=True\n",
    ")\n",
    "\n",
    "# Task 2: AI Regulation Analysis (Asynchronous)\n",
    "research_regulation_task = Task(\n",
    "    description=\"\"\"Analyze the latest AI regulations\n",
    "                   worldwide and summarize key policies.\"\"\",\n",
    "    expected_output=\"A structured summary of AI regulations by region.\",\n",
    "    agent=regulation_agent,\n",
    "    output_pydantic=AIRegulationFindings,\n",
    "    async_execution=True \n",
    ")\n",
    "\n",
    "# Task 3: Generate AI Research Report\n",
    "generate_report_task = Task(\n",
    "    description=\"Write a report summarizing AI breakthroughs and regulations.\",\n",
    "    expected_output=\"A final AI report summarizing both aspects.\",\n",
    "    agent=writer_agent,\n",
    "    output_pydantic=FinalAIReport,\n",
    "    context=[research_ai_task, research_regulation_task] \n",
    ")"
   ]
  },
  {
   "cell_type": "markdown",
   "id": "c5a19495",
   "metadata": {},
   "source": [
    "### Kick Off"
   ]
  },
  {
   "cell_type": "code",
   "execution_count": 11,
   "id": "3bdafc3b",
   "metadata": {},
   "outputs": [
    {
     "data": {
      "text/html": [
       "<pre style=\"white-space:pre;overflow-x:auto;line-height:normal;font-family:Menlo,'DejaVu Sans Mono',consolas,'Courier New',monospace\"><span style=\"color: #008080; text-decoration-color: #008080\">╭──────────────────────────────────────────── Crew Execution Started ─────────────────────────────────────────────╮</span>\n",
       "<span style=\"color: #008080; text-decoration-color: #008080\">│</span>                                                                                                                 <span style=\"color: #008080; text-decoration-color: #008080\">│</span>\n",
       "<span style=\"color: #008080; text-decoration-color: #008080\">│</span>  <span style=\"color: #008080; text-decoration-color: #008080; font-weight: bold\">Crew Execution Started</span>                                                                                         <span style=\"color: #008080; text-decoration-color: #008080\">│</span>\n",
       "<span style=\"color: #008080; text-decoration-color: #008080\">│</span>  <span style=\"color: #c0c0c0; text-decoration-color: #c0c0c0\">Name: </span><span style=\"color: #008080; text-decoration-color: #008080\">crew</span>                                                                                                     <span style=\"color: #008080; text-decoration-color: #008080\">│</span>\n",
       "<span style=\"color: #008080; text-decoration-color: #008080\">│</span>  <span style=\"color: #c0c0c0; text-decoration-color: #c0c0c0\">ID: </span><span style=\"color: #008080; text-decoration-color: #008080\">ec2b690c-68fa-4ef2-b8ff-b05309104619</span>                                                                       <span style=\"color: #008080; text-decoration-color: #008080\">│</span>\n",
       "<span style=\"color: #008080; text-decoration-color: #008080\">│</span>                                                                                                                 <span style=\"color: #008080; text-decoration-color: #008080\">│</span>\n",
       "<span style=\"color: #008080; text-decoration-color: #008080\">│</span>                                                                                                                 <span style=\"color: #008080; text-decoration-color: #008080\">│</span>\n",
       "<span style=\"color: #008080; text-decoration-color: #008080\">╰─────────────────────────────────────────────────────────────────────────────────────────────────────────────────╯</span>\n",
       "</pre>\n"
      ],
      "text/plain": [
       "\u001b[36m╭─\u001b[0m\u001b[36m───────────────────────────────────────────\u001b[0m\u001b[36m Crew Execution Started \u001b[0m\u001b[36m────────────────────────────────────────────\u001b[0m\u001b[36m─╮\u001b[0m\n",
       "\u001b[36m│\u001b[0m                                                                                                                 \u001b[36m│\u001b[0m\n",
       "\u001b[36m│\u001b[0m  \u001b[1;36mCrew Execution Started\u001b[0m                                                                                         \u001b[36m│\u001b[0m\n",
       "\u001b[36m│\u001b[0m  \u001b[37mName: \u001b[0m\u001b[36mcrew\u001b[0m                                                                                                     \u001b[36m│\u001b[0m\n",
       "\u001b[36m│\u001b[0m  \u001b[37mID: \u001b[0m\u001b[36mec2b690c-68fa-4ef2-b8ff-b05309104619\u001b[0m                                                                       \u001b[36m│\u001b[0m\n",
       "\u001b[36m│\u001b[0m                                                                                                                 \u001b[36m│\u001b[0m\n",
       "\u001b[36m│\u001b[0m                                                                                                                 \u001b[36m│\u001b[0m\n",
       "\u001b[36m╰─────────────────────────────────────────────────────────────────────────────────────────────────────────────────╯\u001b[0m\n"
      ]
     },
     "metadata": {},
     "output_type": "display_data"
    },
    {
     "data": {
      "text/html": [
       "<pre style=\"white-space:pre;overflow-x:auto;line-height:normal;font-family:Menlo,'DejaVu Sans Mono',consolas,'Courier New',monospace\">\n",
       "</pre>\n"
      ],
      "text/plain": [
       "\n"
      ]
     },
     "metadata": {},
     "output_type": "display_data"
    },
    {
     "data": {
      "text/html": [
       "<pre style=\"white-space:pre;overflow-x:auto;line-height:normal;font-family:Menlo,'DejaVu Sans Mono',consolas,'Courier New',monospace\"><span style=\"color: #008080; text-decoration-color: #008080; font-weight: bold\">🚀 Crew: crew</span>\n",
       "└── <span style=\"color: #808000; text-decoration-color: #808000; font-weight: bold\">📋 Task: 1bfc5ee5-f6ea-49f8-93a4-77f528c5e22a</span>\n",
       "    <span style=\"color: #c0c0c0; text-decoration-color: #c0c0c0\">   Status: </span><span style=\"color: #bfbf7f; text-decoration-color: #bfbf7f\">Executing Task...</span>\n",
       "</pre>\n"
      ],
      "text/plain": [
       "\u001b[1;36m🚀 Crew: \u001b[0m\u001b[1;36mcrew\u001b[0m\n",
       "└── \u001b[1;33m📋 Task: 1bfc5ee5-f6ea-49f8-93a4-77f528c5e22a\u001b[0m\n",
       "    \u001b[37m   Status: \u001b[0m\u001b[2;33mExecuting Task...\u001b[0m\n"
      ]
     },
     "metadata": {},
     "output_type": "display_data"
    },
    {
     "data": {
      "text/html": [
       "<pre style=\"white-space:pre;overflow-x:auto;line-height:normal;font-family:Menlo,'DejaVu Sans Mono',consolas,'Courier New',monospace\">\n",
       "</pre>\n"
      ],
      "text/plain": [
       "\n"
      ]
     },
     "metadata": {},
     "output_type": "display_data"
    },
    {
     "data": {
      "text/html": [
       "<pre style=\"white-space:pre;overflow-x:auto;line-height:normal;font-family:Menlo,'DejaVu Sans Mono',consolas,'Courier New',monospace\"><span style=\"color: #008080; text-decoration-color: #008080; font-weight: bold\">🚀 Crew: crew</span>\n",
       "├── <span style=\"color: #808000; text-decoration-color: #808000; font-weight: bold\">📋 Task: 1bfc5ee5-f6ea-49f8-93a4-77f528c5e22a</span>\n",
       "│   <span style=\"color: #c0c0c0; text-decoration-color: #c0c0c0\">   Status: </span><span style=\"color: #bfbf7f; text-decoration-color: #bfbf7f\">Executing Task...</span>\n",
       "└── <span style=\"color: #808000; text-decoration-color: #808000; font-weight: bold\">📋 Task: 2703c591-6255-4225-8389-4f7181ec3604</span>\n",
       "    <span style=\"color: #c0c0c0; text-decoration-color: #c0c0c0\">   Status: </span><span style=\"color: #bfbf7f; text-decoration-color: #bfbf7f\">Executing Task...</span>\n",
       "</pre>\n"
      ],
      "text/plain": [
       "\u001b[1;36m🚀 Crew: \u001b[0m\u001b[1;36mcrew\u001b[0m\n",
       "├── \u001b[1;33m📋 Task: 1bfc5ee5-f6ea-49f8-93a4-77f528c5e22a\u001b[0m\n",
       "│   \u001b[37m   Status: \u001b[0m\u001b[2;33mExecuting Task...\u001b[0m\n",
       "└── \u001b[1;33m📋 Task: 2703c591-6255-4225-8389-4f7181ec3604\u001b[0m\n",
       "    \u001b[37m   Status: \u001b[0m\u001b[2;33mExecuting Task...\u001b[0m\n"
      ]
     },
     "metadata": {},
     "output_type": "display_data"
    },
    {
     "data": {
      "text/html": [
       "<pre style=\"white-space:pre;overflow-x:auto;line-height:normal;font-family:Menlo,'DejaVu Sans Mono',consolas,'Courier New',monospace\">\n",
       "</pre>\n"
      ],
      "text/plain": [
       "\n"
      ]
     },
     "metadata": {},
     "output_type": "display_data"
    },
    {
     "data": {
      "text/html": [
       "<pre style=\"white-space:pre;overflow-x:auto;line-height:normal;font-family:Menlo,'DejaVu Sans Mono',consolas,'Courier New',monospace\"><span style=\"color: #008080; text-decoration-color: #008080; font-weight: bold\">🚀 Crew: crew</span>\n",
       "├── <span style=\"color: #808000; text-decoration-color: #808000; font-weight: bold\">📋 Task: 1bfc5ee5-f6ea-49f8-93a4-77f528c5e22a</span>\n",
       "│   <span style=\"color: #c0c0c0; text-decoration-color: #c0c0c0\">   Status: </span><span style=\"color: #bfbf7f; text-decoration-color: #bfbf7f\">Executing Task...</span>\n",
       "└── <span style=\"color: #808000; text-decoration-color: #808000; font-weight: bold\">📋 Task: 2703c591-6255-4225-8389-4f7181ec3604</span>\n",
       "    <span style=\"color: #c0c0c0; text-decoration-color: #c0c0c0\">   Status: </span><span style=\"color: #bfbf7f; text-decoration-color: #bfbf7f\">Executing Task...</span>\n",
       "    └── <span style=\"color: #008000; text-decoration-color: #008000; font-weight: bold\">🤖 Agent: </span><span style=\"color: #008000; text-decoration-color: #008000\">AI Researcher</span>\n",
       "        <span style=\"color: #c0c0c0; text-decoration-color: #c0c0c0\">    Status: </span><span style=\"color: #008000; text-decoration-color: #008000; font-weight: bold\">In Progress</span>\n",
       "</pre>\n"
      ],
      "text/plain": [
       "\u001b[1;36m🚀 Crew: \u001b[0m\u001b[1;36mcrew\u001b[0m\n",
       "├── \u001b[1;33m📋 Task: 1bfc5ee5-f6ea-49f8-93a4-77f528c5e22a\u001b[0m\n",
       "│   \u001b[37m   Status: \u001b[0m\u001b[2;33mExecuting Task...\u001b[0m\n",
       "└── \u001b[1;33m📋 Task: 2703c591-6255-4225-8389-4f7181ec3604\u001b[0m\n",
       "    \u001b[37m   Status: \u001b[0m\u001b[2;33mExecuting Task...\u001b[0m\n",
       "    └── \u001b[1;32m🤖 Agent: \u001b[0m\u001b[32mAI Researcher\u001b[0m\n",
       "        \u001b[37m    Status: \u001b[0m\u001b[1;32mIn Progress\u001b[0m\n"
      ]
     },
     "metadata": {},
     "output_type": "display_data"
    },
    {
     "data": {
      "text/html": [
       "<pre style=\"white-space:pre;overflow-x:auto;line-height:normal;font-family:Menlo,'DejaVu Sans Mono',consolas,'Courier New',monospace\">\n",
       "</pre>\n"
      ],
      "text/plain": [
       "\n"
      ]
     },
     "metadata": {},
     "output_type": "display_data"
    },
    {
     "name": "stdout",
     "output_type": "stream",
     "text": [
      "\u001b[1m\u001b[95m# Agent:\u001b[00m \u001b[1m\u001b[92mAI Researcher\u001b[00m\n",
      "\u001b[95m## Task:\u001b[00m \u001b[92mResearch the latest AI advancements\n",
      "                   and summarize key breakthroughs.\u001b[00m\n"
     ]
    },
    {
     "data": {
      "text/html": [
       "<pre style=\"white-space:pre;overflow-x:auto;line-height:normal;font-family:Menlo,'DejaVu Sans Mono',consolas,'Courier New',monospace\"><span style=\"color: #008080; text-decoration-color: #008080; font-weight: bold\">🚀 Crew: crew</span>\n",
       "├── <span style=\"color: #808000; text-decoration-color: #808000; font-weight: bold\">📋 Task: 1bfc5ee5-f6ea-49f8-93a4-77f528c5e22a</span>\n",
       "│   <span style=\"color: #c0c0c0; text-decoration-color: #c0c0c0\">   Status: </span><span style=\"color: #bfbf7f; text-decoration-color: #bfbf7f\">Executing Task...</span>\n",
       "└── <span style=\"color: #808000; text-decoration-color: #808000; font-weight: bold\">📋 Task: 2703c591-6255-4225-8389-4f7181ec3604</span>\n",
       "    <span style=\"color: #c0c0c0; text-decoration-color: #c0c0c0\">   Status: </span><span style=\"color: #bfbf7f; text-decoration-color: #bfbf7f\">Executing Task...</span>\n",
       "    ├── <span style=\"color: #008000; text-decoration-color: #008000; font-weight: bold\">🤖 Agent: </span><span style=\"color: #008000; text-decoration-color: #008000\">AI Researcher</span>\n",
       "    │   <span style=\"color: #c0c0c0; text-decoration-color: #c0c0c0\">    Status: </span><span style=\"color: #008000; text-decoration-color: #008000; font-weight: bold\">In Progress</span>\n",
       "    │   └── <span style=\"color: #000080; text-decoration-color: #000080; font-weight: bold\">🧠 </span><span style=\"color: #000080; text-decoration-color: #000080\">Thinking...</span>\n",
       "    └── <span style=\"color: #008000; text-decoration-color: #008000; font-weight: bold\">🤖 Agent: </span><span style=\"color: #008000; text-decoration-color: #008000\">AI Policy Analyst</span>\n",
       "        <span style=\"color: #c0c0c0; text-decoration-color: #c0c0c0\">    Status: </span><span style=\"color: #008000; text-decoration-color: #008000; font-weight: bold\">In Progress</span>\n",
       "</pre>\n"
      ],
      "text/plain": [
       "\u001b[1;36m🚀 Crew: \u001b[0m\u001b[1;36mcrew\u001b[0m\n",
       "├── \u001b[1;33m📋 Task: 1bfc5ee5-f6ea-49f8-93a4-77f528c5e22a\u001b[0m\n",
       "│   \u001b[37m   Status: \u001b[0m\u001b[2;33mExecuting Task...\u001b[0m\n",
       "└── \u001b[1;33m📋 Task: 2703c591-6255-4225-8389-4f7181ec3604\u001b[0m\n",
       "    \u001b[37m   Status: \u001b[0m\u001b[2;33mExecuting Task...\u001b[0m\n",
       "    ├── \u001b[1;32m🤖 Agent: \u001b[0m\u001b[32mAI Researcher\u001b[0m\n",
       "    │   \u001b[37m    Status: \u001b[0m\u001b[1;32mIn Progress\u001b[0m\n",
       "    │   └── \u001b[1;34m🧠 \u001b[0m\u001b[34mThinking...\u001b[0m\n",
       "    └── \u001b[1;32m🤖 Agent: \u001b[0m\u001b[32mAI Policy Analyst\u001b[0m\n",
       "        \u001b[37m    Status: \u001b[0m\u001b[1;32mIn Progress\u001b[0m\n"
      ]
     },
     "metadata": {},
     "output_type": "display_data"
    },
    {
     "data": {
      "text/html": [
       "<pre style=\"white-space:pre;overflow-x:auto;line-height:normal;font-family:Menlo,'DejaVu Sans Mono',consolas,'Courier New',monospace\">\n",
       "</pre>\n"
      ],
      "text/plain": [
       "\n"
      ]
     },
     "metadata": {},
     "output_type": "display_data"
    },
    {
     "name": "stdout",
     "output_type": "stream",
     "text": [
      "\u001b[1m\u001b[95m# Agent:\u001b[00m \u001b[1m\u001b[92mAI Policy Analyst\u001b[00m\n",
      "\u001b[95m## Task:\u001b[00m \u001b[92mAnalyze the latest AI regulations\n",
      "                   worldwide and summarize key policies.\u001b[00m\n"
     ]
    },
    {
     "data": {
      "text/html": [
       "<pre style=\"white-space:pre;overflow-x:auto;line-height:normal;font-family:Menlo,'DejaVu Sans Mono',consolas,'Courier New',monospace\"><span style=\"color: #008000; text-decoration-color: #008000; font-weight: bold\">🤖 Agent: </span><span style=\"color: #008000; text-decoration-color: #008000\">AI Researcher</span>\n",
       "<span style=\"color: #c0c0c0; text-decoration-color: #c0c0c0\">    Status: </span><span style=\"color: #008000; text-decoration-color: #008000; font-weight: bold\">In Progress</span>\n",
       "└── <span style=\"color: #000080; text-decoration-color: #000080; font-weight: bold\">🧠 </span><span style=\"color: #000080; text-decoration-color: #000080\">Thinking...</span>\n",
       "</pre>\n"
      ],
      "text/plain": [
       "\u001b[1;32m🤖 Agent: \u001b[0m\u001b[32mAI Researcher\u001b[0m\n",
       "\u001b[37m    Status: \u001b[0m\u001b[1;32mIn Progress\u001b[0m\n",
       "└── \u001b[1;34m🧠 \u001b[0m\u001b[34mThinking...\u001b[0m\n"
      ]
     },
     "metadata": {},
     "output_type": "display_data"
    },
    {
     "data": {
      "text/html": [
       "<pre style=\"white-space:pre;overflow-x:auto;line-height:normal;font-family:Menlo,'DejaVu Sans Mono',consolas,'Courier New',monospace\">\n",
       "</pre>\n"
      ],
      "text/plain": [
       "\n"
      ]
     },
     "metadata": {},
     "output_type": "display_data"
    },
    {
     "name": "stdout",
     "output_type": "stream",
     "text": [
      "\n",
      "\n",
      "\u001b[1m\u001b[95m# Agent:\u001b[00m \u001b[1m\u001b[92mAI Researcher\u001b[00m\n",
      "\u001b[95m## Final Answer:\u001b[00m \u001b[92m\n",
      "{  \n",
      "  \"title\": \"Latest AI Breakthroughs - October 2023\",  \n",
      "  \"key_findings\": [  \n",
      "    \"Introduction of models like Meta's LLaMA 3, demonstrating significant advancements in natural language understanding and generation.\",  \n",
      "    \"Google's Gemini AI showcased enhanced multimodal capabilities, integrating text, images, and sound processing for more holistic AI applications.\",  \n",
      "    \"OpenAI's ChatGPT updates now enable better contextual understanding and real-time language translation, improving user interactions across diverse languages.\",  \n",
      "    \"DeepMind's AlphaCode achieved remarkable success in coding competitions, indicating a new level of proficiency in automated programming.\",  \n",
      "    \"Advancements in AI ethics with the establishment of standardized ethical frameworks by AI organizations to guide responsible AI development and deployment.\",  \n",
      "    \"The rise of quantum computing's intersection with AI, particularly in optimizing machine learning algorithms, offering unprecedented processing power.\",  \n",
      "    \"Breakthroughs in AI-driven drug discovery, with algorithms efficiently predicting molecular interactions, significantly shortening the timeline for new pharmaceuticals.\",  \n",
      "    \"The emergence of self-supervised learning techniques in image and video recognition, leading to improved accuracy and reduced need for labeled training data.\"  \n",
      "  ]  \n",
      "}\u001b[00m\n",
      "\n",
      "\n"
     ]
    },
    {
     "data": {
      "text/html": [
       "<pre style=\"white-space:pre;overflow-x:auto;line-height:normal;font-family:Menlo,'DejaVu Sans Mono',consolas,'Courier New',monospace\"><span style=\"color: #008080; text-decoration-color: #008080; font-weight: bold\">🚀 Crew: crew</span>\n",
       "├── <span style=\"color: #808000; text-decoration-color: #808000; font-weight: bold\">📋 Task: 1bfc5ee5-f6ea-49f8-93a4-77f528c5e22a</span>\n",
       "│   <span style=\"color: #c0c0c0; text-decoration-color: #c0c0c0\">   Status: </span><span style=\"color: #bfbf7f; text-decoration-color: #bfbf7f\">Executing Task...</span>\n",
       "└── <span style=\"color: #808000; text-decoration-color: #808000; font-weight: bold\">📋 Task: 2703c591-6255-4225-8389-4f7181ec3604</span>\n",
       "    <span style=\"color: #c0c0c0; text-decoration-color: #c0c0c0\">   Status: </span><span style=\"color: #bfbf7f; text-decoration-color: #bfbf7f\">Executing Task...</span>\n",
       "    ├── <span style=\"color: #008000; text-decoration-color: #008000; font-weight: bold\">🤖 Agent: </span><span style=\"color: #008000; text-decoration-color: #008000\">AI Researcher</span>\n",
       "    │   <span style=\"color: #c0c0c0; text-decoration-color: #c0c0c0\">    Status: </span><span style=\"color: #008000; text-decoration-color: #008000; font-weight: bold\">In Progress</span>\n",
       "    │   └── <span style=\"color: #000080; text-decoration-color: #000080; font-weight: bold\">🧠 </span><span style=\"color: #000080; text-decoration-color: #000080\">Thinking...</span>\n",
       "    └── <span style=\"color: #008000; text-decoration-color: #008000; font-weight: bold\">🤖 Agent: </span><span style=\"color: #008000; text-decoration-color: #008000\">AI Researcher</span>\n",
       "        <span style=\"color: #c0c0c0; text-decoration-color: #c0c0c0\">    Status: </span><span style=\"color: #008000; text-decoration-color: #008000; font-weight: bold\">✅ Completed</span>\n",
       "</pre>\n"
      ],
      "text/plain": [
       "\u001b[1;36m🚀 Crew: \u001b[0m\u001b[1;36mcrew\u001b[0m\n",
       "├── \u001b[1;33m📋 Task: 1bfc5ee5-f6ea-49f8-93a4-77f528c5e22a\u001b[0m\n",
       "│   \u001b[37m   Status: \u001b[0m\u001b[2;33mExecuting Task...\u001b[0m\n",
       "└── \u001b[1;33m📋 Task: 2703c591-6255-4225-8389-4f7181ec3604\u001b[0m\n",
       "    \u001b[37m   Status: \u001b[0m\u001b[2;33mExecuting Task...\u001b[0m\n",
       "    ├── \u001b[1;32m🤖 Agent: \u001b[0m\u001b[32mAI Researcher\u001b[0m\n",
       "    │   \u001b[37m    Status: \u001b[0m\u001b[1;32mIn Progress\u001b[0m\n",
       "    │   └── \u001b[1;34m🧠 \u001b[0m\u001b[34mThinking...\u001b[0m\n",
       "    └── \u001b[1;32m🤖 Agent: \u001b[0m\u001b[32mAI Researcher\u001b[0m\n",
       "        \u001b[37m    Status: \u001b[0m\u001b[1;32m✅ Completed\u001b[0m\n"
      ]
     },
     "metadata": {},
     "output_type": "display_data"
    },
    {
     "data": {
      "text/html": [
       "<pre style=\"white-space:pre;overflow-x:auto;line-height:normal;font-family:Menlo,'DejaVu Sans Mono',consolas,'Courier New',monospace\">\n",
       "</pre>\n"
      ],
      "text/plain": [
       "\n"
      ]
     },
     "metadata": {},
     "output_type": "display_data"
    },
    {
     "data": {
      "text/html": [
       "<pre style=\"white-space:pre;overflow-x:auto;line-height:normal;font-family:Menlo,'DejaVu Sans Mono',consolas,'Courier New',monospace\"><span style=\"color: #008080; text-decoration-color: #008080; font-weight: bold\">🚀 Crew: crew</span>\n",
       "├── <span style=\"color: #008000; text-decoration-color: #008000; font-weight: bold\">📋 Task: 1bfc5ee5-f6ea-49f8-93a4-77f528c5e22a</span>\n",
       "│   <span style=\"color: #c0c0c0; text-decoration-color: #c0c0c0\">   Assigned to: </span><span style=\"color: #008000; text-decoration-color: #008000\">AI Researcher</span>\n",
       "│   <span style=\"color: #c0c0c0; text-decoration-color: #c0c0c0\">   Status: </span><span style=\"color: #008000; text-decoration-color: #008000; font-weight: bold\">✅ Completed</span>\n",
       "└── <span style=\"color: #808000; text-decoration-color: #808000; font-weight: bold\">📋 Task: 2703c591-6255-4225-8389-4f7181ec3604</span>\n",
       "    <span style=\"color: #c0c0c0; text-decoration-color: #c0c0c0\">   Status: </span><span style=\"color: #bfbf7f; text-decoration-color: #bfbf7f\">Executing Task...</span>\n",
       "    ├── <span style=\"color: #008000; text-decoration-color: #008000; font-weight: bold\">🤖 Agent: </span><span style=\"color: #008000; text-decoration-color: #008000\">AI Researcher</span>\n",
       "    │   <span style=\"color: #c0c0c0; text-decoration-color: #c0c0c0\">    Status: </span><span style=\"color: #008000; text-decoration-color: #008000; font-weight: bold\">In Progress</span>\n",
       "    │   └── <span style=\"color: #000080; text-decoration-color: #000080; font-weight: bold\">🧠 </span><span style=\"color: #000080; text-decoration-color: #000080\">Thinking...</span>\n",
       "    └── <span style=\"color: #008000; text-decoration-color: #008000; font-weight: bold\">🤖 Agent: </span><span style=\"color: #008000; text-decoration-color: #008000\">AI Researcher</span>\n",
       "        <span style=\"color: #c0c0c0; text-decoration-color: #c0c0c0\">    Status: </span><span style=\"color: #008000; text-decoration-color: #008000; font-weight: bold\">✅ Completed</span>\n",
       "</pre>\n"
      ],
      "text/plain": [
       "\u001b[1;36m🚀 Crew: \u001b[0m\u001b[1;36mcrew\u001b[0m\n",
       "├── \u001b[1;32m📋 Task: 1bfc5ee5-f6ea-49f8-93a4-77f528c5e22a\u001b[0m\n",
       "│   \u001b[37m   Assigned to: \u001b[0m\u001b[32mAI Researcher\u001b[0m\n",
       "│   \u001b[37m   Status: \u001b[0m\u001b[1;32m✅ Completed\u001b[0m\n",
       "└── \u001b[1;33m📋 Task: 2703c591-6255-4225-8389-4f7181ec3604\u001b[0m\n",
       "    \u001b[37m   Status: \u001b[0m\u001b[2;33mExecuting Task...\u001b[0m\n",
       "    ├── \u001b[1;32m🤖 Agent: \u001b[0m\u001b[32mAI Researcher\u001b[0m\n",
       "    │   \u001b[37m    Status: \u001b[0m\u001b[1;32mIn Progress\u001b[0m\n",
       "    │   └── \u001b[1;34m🧠 \u001b[0m\u001b[34mThinking...\u001b[0m\n",
       "    └── \u001b[1;32m🤖 Agent: \u001b[0m\u001b[32mAI Researcher\u001b[0m\n",
       "        \u001b[37m    Status: \u001b[0m\u001b[1;32m✅ Completed\u001b[0m\n"
      ]
     },
     "metadata": {},
     "output_type": "display_data"
    },
    {
     "data": {
      "text/html": [
       "<pre style=\"white-space:pre;overflow-x:auto;line-height:normal;font-family:Menlo,'DejaVu Sans Mono',consolas,'Courier New',monospace\"><span style=\"color: #008000; text-decoration-color: #008000\">╭──────────────────────────────────────────────── Task Completion ────────────────────────────────────────────────╮</span>\n",
       "<span style=\"color: #008000; text-decoration-color: #008000\">│</span>                                                                                                                 <span style=\"color: #008000; text-decoration-color: #008000\">│</span>\n",
       "<span style=\"color: #008000; text-decoration-color: #008000\">│</span>  <span style=\"color: #008000; text-decoration-color: #008000; font-weight: bold\">Task Completed</span>                                                                                                 <span style=\"color: #008000; text-decoration-color: #008000\">│</span>\n",
       "<span style=\"color: #008000; text-decoration-color: #008000\">│</span>  <span style=\"color: #c0c0c0; text-decoration-color: #c0c0c0\">Name: </span><span style=\"color: #008000; text-decoration-color: #008000\">1bfc5ee5-f6ea-49f8-93a4-77f528c5e22a</span>                                                                     <span style=\"color: #008000; text-decoration-color: #008000\">│</span>\n",
       "<span style=\"color: #008000; text-decoration-color: #008000\">│</span>  <span style=\"color: #c0c0c0; text-decoration-color: #c0c0c0\">Agent: </span><span style=\"color: #008000; text-decoration-color: #008000\">AI Researcher</span>                                                                                           <span style=\"color: #008000; text-decoration-color: #008000\">│</span>\n",
       "<span style=\"color: #008000; text-decoration-color: #008000\">│</span>                                                                                                                 <span style=\"color: #008000; text-decoration-color: #008000\">│</span>\n",
       "<span style=\"color: #008000; text-decoration-color: #008000\">│</span>                                                                                                                 <span style=\"color: #008000; text-decoration-color: #008000\">│</span>\n",
       "<span style=\"color: #008000; text-decoration-color: #008000\">╰─────────────────────────────────────────────────────────────────────────────────────────────────────────────────╯</span>\n",
       "</pre>\n"
      ],
      "text/plain": [
       "\u001b[32m╭─\u001b[0m\u001b[32m───────────────────────────────────────────────\u001b[0m\u001b[32m Task Completion \u001b[0m\u001b[32m───────────────────────────────────────────────\u001b[0m\u001b[32m─╮\u001b[0m\n",
       "\u001b[32m│\u001b[0m                                                                                                                 \u001b[32m│\u001b[0m\n",
       "\u001b[32m│\u001b[0m  \u001b[1;32mTask Completed\u001b[0m                                                                                                 \u001b[32m│\u001b[0m\n",
       "\u001b[32m│\u001b[0m  \u001b[37mName: \u001b[0m\u001b[32m1bfc5ee5-f6ea-49f8-93a4-77f528c5e22a\u001b[0m                                                                     \u001b[32m│\u001b[0m\n",
       "\u001b[32m│\u001b[0m  \u001b[37mAgent: \u001b[0m\u001b[32mAI Researcher\u001b[0m                                                                                           \u001b[32m│\u001b[0m\n",
       "\u001b[32m│\u001b[0m                                                                                                                 \u001b[32m│\u001b[0m\n",
       "\u001b[32m│\u001b[0m                                                                                                                 \u001b[32m│\u001b[0m\n",
       "\u001b[32m╰─────────────────────────────────────────────────────────────────────────────────────────────────────────────────╯\u001b[0m\n"
      ]
     },
     "metadata": {},
     "output_type": "display_data"
    },
    {
     "data": {
      "text/html": [
       "<pre style=\"white-space:pre;overflow-x:auto;line-height:normal;font-family:Menlo,'DejaVu Sans Mono',consolas,'Courier New',monospace\">\n",
       "</pre>\n"
      ],
      "text/plain": [
       "\n"
      ]
     },
     "metadata": {},
     "output_type": "display_data"
    },
    {
     "name": "stdout",
     "output_type": "stream",
     "text": [
      "\n",
      "\n",
      "\u001b[1m\u001b[95m# Agent:\u001b[00m \u001b[1m\u001b[92mAI Policy Analyst\u001b[00m\n",
      "\u001b[95m## Final Answer:\u001b[00m \u001b[92m\n",
      "[  \n",
      "  {  \n",
      "    \"region\": \"European Union\",  \n",
      "    \"key_policies\": [  \n",
      "      \"AI Act: A regulatory framework aimed at ensuring the development and use of AI that is safe and respects fundamental rights.\",  \n",
      "      \"Risk-based classification: AI systems categorized into unacceptable, high-risk, and low-risk categories with corresponding obligations.\",  \n",
      "      \"Transparency requirements: Higher obligations for systems that manipulate human behavior, requiring clear information for users.\",  \n",
      "      \"Human oversight: Mandates human intervention in critical applications, ensuring accountability in AI decisions.\"  \n",
      "    ]  \n",
      "  },  \n",
      "  {  \n",
      "    \"region\": \"United States\",  \n",
      "    \"key_policies\": [  \n",
      "      \"Algorithmic Accountability Act: Proposed legislation aimed at addressing biases in AI, requiring companies to conduct impact assessments.\",  \n",
      "      \"National AI Initiative Act: Establishes a framework for U.S. leadership in AI, promoting research, development, and ethical standards.\",  \n",
      "      \"Federal Trade Commission (FTC) guidelines: Emphasizes consumer protection and equitable treatment concerning AI technologies.\"  \n",
      "    ]  \n",
      "  },  \n",
      "  {  \n",
      "    \"region\": \"China\",  \n",
      "    \"key_policies\": [  \n",
      "      \"AI Development Plan: Aimed at becoming a leading AI innovation hub by 2030, with implications for data management and security.\",  \n",
      "      \"New Generation AI Ethics Committee: Establishes ethical guidelines for AI development to align with social justice and cultural values.\",  \n",
      "      \"Data Security Law: Enforces strict controls over data collection and use, impacting AI systems by requiring user consent and data localization.\"  \n",
      "    ]  \n",
      "  },  \n",
      "  {  \n",
      "    \"region\": \"United Kingdom\",  \n",
      "    \"key_policies\": [  \n",
      "      \"UK AI Strategy: Emphasizes a pro-innovation approach while ensuring safety and ethics in AI deployment across sectors.\",  \n",
      "      \"Regulatory Principles for AI: Outlines expectations for transparency, fairness, and accountability in AI for businesses.\",  \n",
      "      \"Data Protection Act: Integrates AI implications into existing data protection laws, emphasizing user consent and privacy.\"  \n",
      "    ]  \n",
      "  },  \n",
      "  {  \n",
      "    \"region\": \"Canada\",  \n",
      "    \"key_policies\": [  \n",
      "      \"Directive on Automated Decision-Making: Establishes a framework for managing risks associated with automated systems in government.\",  \n",
      "      \"Pan-Canadian AI Strategy: Aims to foster responsible development and use of AI, balancing innovation with ethical considerations.\",  \n",
      "      \"Bill C-27: Proposes updates to the federal privacy framework to address AI and data use concerns.\"  \n",
      "    ]  \n",
      "  },  \n",
      "  {  \n",
      "    \"region\": \"Global\",  \n",
      "    \"key_policies\": [  \n",
      "      \"OECD Principles on AI: Emphasizes inclusive growth, sustainability, and well-being in AI implementation across Member countries.\",  \n",
      "      \"UNESCO Recommendation on AI Ethics: Advocates for ethical principles around AI, focusing on human rights and fundamental freedoms.\",  \n",
      "      \"G20 AI Principles: Focus on fostering the responsible use of AI, promoting trust and transparency in AI systems worldwide.\"  \n",
      "    ]  \n",
      "  }  \n",
      "]\u001b[00m\n",
      "\n",
      "\n"
     ]
    },
    {
     "data": {
      "text/html": [
       "<pre style=\"white-space:pre;overflow-x:auto;line-height:normal;font-family:Menlo,'DejaVu Sans Mono',consolas,'Courier New',monospace\"><span style=\"color: #008080; text-decoration-color: #008080; font-weight: bold\">🚀 Crew: crew</span>\n",
       "├── <span style=\"color: #008000; text-decoration-color: #008000; font-weight: bold\">📋 Task: 1bfc5ee5-f6ea-49f8-93a4-77f528c5e22a</span>\n",
       "│   <span style=\"color: #c0c0c0; text-decoration-color: #c0c0c0\">   Assigned to: </span><span style=\"color: #008000; text-decoration-color: #008000\">AI Researcher</span>\n",
       "│   <span style=\"color: #c0c0c0; text-decoration-color: #c0c0c0\">   Status: </span><span style=\"color: #008000; text-decoration-color: #008000; font-weight: bold\">✅ Completed</span>\n",
       "└── <span style=\"color: #808000; text-decoration-color: #808000; font-weight: bold\">📋 Task: 2703c591-6255-4225-8389-4f7181ec3604</span>\n",
       "    <span style=\"color: #c0c0c0; text-decoration-color: #c0c0c0\">   Status: </span><span style=\"color: #bfbf7f; text-decoration-color: #bfbf7f\">Executing Task...</span>\n",
       "    ├── <span style=\"color: #008000; text-decoration-color: #008000; font-weight: bold\">🤖 Agent: </span><span style=\"color: #008000; text-decoration-color: #008000\">AI Researcher</span>\n",
       "    │   <span style=\"color: #c0c0c0; text-decoration-color: #c0c0c0\">    Status: </span><span style=\"color: #008000; text-decoration-color: #008000; font-weight: bold\">In Progress</span>\n",
       "    │   └── <span style=\"color: #000080; text-decoration-color: #000080; font-weight: bold\">🧠 </span><span style=\"color: #000080; text-decoration-color: #000080\">Thinking...</span>\n",
       "    └── <span style=\"color: #008000; text-decoration-color: #008000; font-weight: bold\">🤖 Agent: </span><span style=\"color: #008000; text-decoration-color: #008000\">AI Policy Analyst</span>\n",
       "        <span style=\"color: #c0c0c0; text-decoration-color: #c0c0c0\">    Status: </span><span style=\"color: #008000; text-decoration-color: #008000; font-weight: bold\">✅ Completed</span>\n",
       "</pre>\n"
      ],
      "text/plain": [
       "\u001b[1;36m🚀 Crew: \u001b[0m\u001b[1;36mcrew\u001b[0m\n",
       "├── \u001b[1;32m📋 Task: 1bfc5ee5-f6ea-49f8-93a4-77f528c5e22a\u001b[0m\n",
       "│   \u001b[37m   Assigned to: \u001b[0m\u001b[32mAI Researcher\u001b[0m\n",
       "│   \u001b[37m   Status: \u001b[0m\u001b[1;32m✅ Completed\u001b[0m\n",
       "└── \u001b[1;33m📋 Task: 2703c591-6255-4225-8389-4f7181ec3604\u001b[0m\n",
       "    \u001b[37m   Status: \u001b[0m\u001b[2;33mExecuting Task...\u001b[0m\n",
       "    ├── \u001b[1;32m🤖 Agent: \u001b[0m\u001b[32mAI Researcher\u001b[0m\n",
       "    │   \u001b[37m    Status: \u001b[0m\u001b[1;32mIn Progress\u001b[0m\n",
       "    │   └── \u001b[1;34m🧠 \u001b[0m\u001b[34mThinking...\u001b[0m\n",
       "    └── \u001b[1;32m🤖 Agent: \u001b[0m\u001b[32mAI Policy Analyst\u001b[0m\n",
       "        \u001b[37m    Status: \u001b[0m\u001b[1;32m✅ Completed\u001b[0m\n"
      ]
     },
     "metadata": {},
     "output_type": "display_data"
    },
    {
     "data": {
      "text/html": [
       "<pre style=\"white-space:pre;overflow-x:auto;line-height:normal;font-family:Menlo,'DejaVu Sans Mono',consolas,'Courier New',monospace\">\n",
       "</pre>\n"
      ],
      "text/plain": [
       "\n"
      ]
     },
     "metadata": {},
     "output_type": "display_data"
    },
    {
     "data": {
      "text/html": [
       "<pre style=\"white-space:pre;overflow-x:auto;line-height:normal;font-family:Menlo,'DejaVu Sans Mono',consolas,'Courier New',monospace\"><span style=\"color: #008080; text-decoration-color: #008080; font-weight: bold\">🚀 Crew: crew</span>\n",
       "├── <span style=\"color: #008000; text-decoration-color: #008000; font-weight: bold\">📋 Task: 1bfc5ee5-f6ea-49f8-93a4-77f528c5e22a</span>\n",
       "│   <span style=\"color: #c0c0c0; text-decoration-color: #c0c0c0\">   Assigned to: </span><span style=\"color: #008000; text-decoration-color: #008000\">AI Researcher</span>\n",
       "│   <span style=\"color: #c0c0c0; text-decoration-color: #c0c0c0\">   Status: </span><span style=\"color: #008000; text-decoration-color: #008000; font-weight: bold\">✅ Completed</span>\n",
       "└── <span style=\"color: #008000; text-decoration-color: #008000; font-weight: bold\">📋 Task: 2703c591-6255-4225-8389-4f7181ec3604</span>\n",
       "    <span style=\"color: #c0c0c0; text-decoration-color: #c0c0c0\">   Assigned to: </span><span style=\"color: #008000; text-decoration-color: #008000\">AI Policy Analyst</span>\n",
       "    <span style=\"color: #c0c0c0; text-decoration-color: #c0c0c0\">   Status: </span><span style=\"color: #008000; text-decoration-color: #008000; font-weight: bold\">✅ Completed</span>\n",
       "    ├── <span style=\"color: #008000; text-decoration-color: #008000; font-weight: bold\">🤖 Agent: </span><span style=\"color: #008000; text-decoration-color: #008000\">AI Researcher</span>\n",
       "    │   <span style=\"color: #c0c0c0; text-decoration-color: #c0c0c0\">    Status: </span><span style=\"color: #008000; text-decoration-color: #008000; font-weight: bold\">In Progress</span>\n",
       "    │   └── <span style=\"color: #000080; text-decoration-color: #000080; font-weight: bold\">🧠 </span><span style=\"color: #000080; text-decoration-color: #000080\">Thinking...</span>\n",
       "    └── <span style=\"color: #008000; text-decoration-color: #008000; font-weight: bold\">🤖 Agent: </span><span style=\"color: #008000; text-decoration-color: #008000\">AI Policy Analyst</span>\n",
       "        <span style=\"color: #c0c0c0; text-decoration-color: #c0c0c0\">    Status: </span><span style=\"color: #008000; text-decoration-color: #008000; font-weight: bold\">✅ Completed</span>\n",
       "</pre>\n"
      ],
      "text/plain": [
       "\u001b[1;36m🚀 Crew: \u001b[0m\u001b[1;36mcrew\u001b[0m\n",
       "├── \u001b[1;32m📋 Task: 1bfc5ee5-f6ea-49f8-93a4-77f528c5e22a\u001b[0m\n",
       "│   \u001b[37m   Assigned to: \u001b[0m\u001b[32mAI Researcher\u001b[0m\n",
       "│   \u001b[37m   Status: \u001b[0m\u001b[1;32m✅ Completed\u001b[0m\n",
       "└── \u001b[1;32m📋 Task: 2703c591-6255-4225-8389-4f7181ec3604\u001b[0m\n",
       "    \u001b[37m   Assigned to: \u001b[0m\u001b[32mAI Policy Analyst\u001b[0m\n",
       "    \u001b[37m   Status: \u001b[0m\u001b[1;32m✅ Completed\u001b[0m\n",
       "    ├── \u001b[1;32m🤖 Agent: \u001b[0m\u001b[32mAI Researcher\u001b[0m\n",
       "    │   \u001b[37m    Status: \u001b[0m\u001b[1;32mIn Progress\u001b[0m\n",
       "    │   └── \u001b[1;34m🧠 \u001b[0m\u001b[34mThinking...\u001b[0m\n",
       "    └── \u001b[1;32m🤖 Agent: \u001b[0m\u001b[32mAI Policy Analyst\u001b[0m\n",
       "        \u001b[37m    Status: \u001b[0m\u001b[1;32m✅ Completed\u001b[0m\n"
      ]
     },
     "metadata": {},
     "output_type": "display_data"
    },
    {
     "data": {
      "text/html": [
       "<pre style=\"white-space:pre;overflow-x:auto;line-height:normal;font-family:Menlo,'DejaVu Sans Mono',consolas,'Courier New',monospace\"><span style=\"color: #008000; text-decoration-color: #008000\">╭──────────────────────────────────────────────── Task Completion ────────────────────────────────────────────────╮</span>\n",
       "<span style=\"color: #008000; text-decoration-color: #008000\">│</span>                                                                                                                 <span style=\"color: #008000; text-decoration-color: #008000\">│</span>\n",
       "<span style=\"color: #008000; text-decoration-color: #008000\">│</span>  <span style=\"color: #008000; text-decoration-color: #008000; font-weight: bold\">Task Completed</span>                                                                                                 <span style=\"color: #008000; text-decoration-color: #008000\">│</span>\n",
       "<span style=\"color: #008000; text-decoration-color: #008000\">│</span>  <span style=\"color: #c0c0c0; text-decoration-color: #c0c0c0\">Name: </span><span style=\"color: #008000; text-decoration-color: #008000\">2703c591-6255-4225-8389-4f7181ec3604</span>                                                                     <span style=\"color: #008000; text-decoration-color: #008000\">│</span>\n",
       "<span style=\"color: #008000; text-decoration-color: #008000\">│</span>  <span style=\"color: #c0c0c0; text-decoration-color: #c0c0c0\">Agent: </span><span style=\"color: #008000; text-decoration-color: #008000\">AI Policy Analyst</span>                                                                                       <span style=\"color: #008000; text-decoration-color: #008000\">│</span>\n",
       "<span style=\"color: #008000; text-decoration-color: #008000\">│</span>                                                                                                                 <span style=\"color: #008000; text-decoration-color: #008000\">│</span>\n",
       "<span style=\"color: #008000; text-decoration-color: #008000\">│</span>                                                                                                                 <span style=\"color: #008000; text-decoration-color: #008000\">│</span>\n",
       "<span style=\"color: #008000; text-decoration-color: #008000\">╰─────────────────────────────────────────────────────────────────────────────────────────────────────────────────╯</span>\n",
       "</pre>\n"
      ],
      "text/plain": [
       "\u001b[32m╭─\u001b[0m\u001b[32m───────────────────────────────────────────────\u001b[0m\u001b[32m Task Completion \u001b[0m\u001b[32m───────────────────────────────────────────────\u001b[0m\u001b[32m─╮\u001b[0m\n",
       "\u001b[32m│\u001b[0m                                                                                                                 \u001b[32m│\u001b[0m\n",
       "\u001b[32m│\u001b[0m  \u001b[1;32mTask Completed\u001b[0m                                                                                                 \u001b[32m│\u001b[0m\n",
       "\u001b[32m│\u001b[0m  \u001b[37mName: \u001b[0m\u001b[32m2703c591-6255-4225-8389-4f7181ec3604\u001b[0m                                                                     \u001b[32m│\u001b[0m\n",
       "\u001b[32m│\u001b[0m  \u001b[37mAgent: \u001b[0m\u001b[32mAI Policy Analyst\u001b[0m                                                                                       \u001b[32m│\u001b[0m\n",
       "\u001b[32m│\u001b[0m                                                                                                                 \u001b[32m│\u001b[0m\n",
       "\u001b[32m│\u001b[0m                                                                                                                 \u001b[32m│\u001b[0m\n",
       "\u001b[32m╰─────────────────────────────────────────────────────────────────────────────────────────────────────────────────╯\u001b[0m\n"
      ]
     },
     "metadata": {},
     "output_type": "display_data"
    },
    {
     "data": {
      "text/html": [
       "<pre style=\"white-space:pre;overflow-x:auto;line-height:normal;font-family:Menlo,'DejaVu Sans Mono',consolas,'Courier New',monospace\">\n",
       "</pre>\n"
      ],
      "text/plain": [
       "\n"
      ]
     },
     "metadata": {},
     "output_type": "display_data"
    },
    {
     "data": {
      "text/html": [
       "<pre style=\"white-space:pre;overflow-x:auto;line-height:normal;font-family:Menlo,'DejaVu Sans Mono',consolas,'Courier New',monospace\"><span style=\"color: #008080; text-decoration-color: #008080; font-weight: bold\">🚀 Crew: crew</span>\n",
       "├── <span style=\"color: #008000; text-decoration-color: #008000; font-weight: bold\">📋 Task: 1bfc5ee5-f6ea-49f8-93a4-77f528c5e22a</span>\n",
       "│   <span style=\"color: #c0c0c0; text-decoration-color: #c0c0c0\">   Assigned to: </span><span style=\"color: #008000; text-decoration-color: #008000\">AI Researcher</span>\n",
       "│   <span style=\"color: #c0c0c0; text-decoration-color: #c0c0c0\">   Status: </span><span style=\"color: #008000; text-decoration-color: #008000; font-weight: bold\">✅ Completed</span>\n",
       "├── <span style=\"color: #008000; text-decoration-color: #008000; font-weight: bold\">📋 Task: 2703c591-6255-4225-8389-4f7181ec3604</span>\n",
       "│   <span style=\"color: #c0c0c0; text-decoration-color: #c0c0c0\">   Assigned to: </span><span style=\"color: #008000; text-decoration-color: #008000\">AI Policy Analyst</span>\n",
       "│   <span style=\"color: #c0c0c0; text-decoration-color: #c0c0c0\">   Status: </span><span style=\"color: #008000; text-decoration-color: #008000; font-weight: bold\">✅ Completed</span>\n",
       "│   ├── <span style=\"color: #008000; text-decoration-color: #008000; font-weight: bold\">🤖 Agent: </span><span style=\"color: #008000; text-decoration-color: #008000\">AI Researcher</span>\n",
       "│   │   <span style=\"color: #c0c0c0; text-decoration-color: #c0c0c0\">    Status: </span><span style=\"color: #008000; text-decoration-color: #008000; font-weight: bold\">In Progress</span>\n",
       "│   │   └── <span style=\"color: #000080; text-decoration-color: #000080; font-weight: bold\">🧠 </span><span style=\"color: #000080; text-decoration-color: #000080\">Thinking...</span>\n",
       "│   └── <span style=\"color: #008000; text-decoration-color: #008000; font-weight: bold\">🤖 Agent: </span><span style=\"color: #008000; text-decoration-color: #008000\">AI Policy Analyst</span>\n",
       "│       <span style=\"color: #c0c0c0; text-decoration-color: #c0c0c0\">    Status: </span><span style=\"color: #008000; text-decoration-color: #008000; font-weight: bold\">✅ Completed</span>\n",
       "└── <span style=\"color: #808000; text-decoration-color: #808000; font-weight: bold\">📋 Task: 7b4df0f8-cb31-4a8e-9ea4-3ac9f83264f7</span>\n",
       "    <span style=\"color: #c0c0c0; text-decoration-color: #c0c0c0\">   Status: </span><span style=\"color: #bfbf7f; text-decoration-color: #bfbf7f\">Executing Task...</span>\n",
       "</pre>\n"
      ],
      "text/plain": [
       "\u001b[1;36m🚀 Crew: \u001b[0m\u001b[1;36mcrew\u001b[0m\n",
       "├── \u001b[1;32m📋 Task: 1bfc5ee5-f6ea-49f8-93a4-77f528c5e22a\u001b[0m\n",
       "│   \u001b[37m   Assigned to: \u001b[0m\u001b[32mAI Researcher\u001b[0m\n",
       "│   \u001b[37m   Status: \u001b[0m\u001b[1;32m✅ Completed\u001b[0m\n",
       "├── \u001b[1;32m📋 Task: 2703c591-6255-4225-8389-4f7181ec3604\u001b[0m\n",
       "│   \u001b[37m   Assigned to: \u001b[0m\u001b[32mAI Policy Analyst\u001b[0m\n",
       "│   \u001b[37m   Status: \u001b[0m\u001b[1;32m✅ Completed\u001b[0m\n",
       "│   ├── \u001b[1;32m🤖 Agent: \u001b[0m\u001b[32mAI Researcher\u001b[0m\n",
       "│   │   \u001b[37m    Status: \u001b[0m\u001b[1;32mIn Progress\u001b[0m\n",
       "│   │   └── \u001b[1;34m🧠 \u001b[0m\u001b[34mThinking...\u001b[0m\n",
       "│   └── \u001b[1;32m🤖 Agent: \u001b[0m\u001b[32mAI Policy Analyst\u001b[0m\n",
       "│       \u001b[37m    Status: \u001b[0m\u001b[1;32m✅ Completed\u001b[0m\n",
       "└── \u001b[1;33m📋 Task: 7b4df0f8-cb31-4a8e-9ea4-3ac9f83264f7\u001b[0m\n",
       "    \u001b[37m   Status: \u001b[0m\u001b[2;33mExecuting Task...\u001b[0m\n"
      ]
     },
     "metadata": {},
     "output_type": "display_data"
    },
    {
     "data": {
      "text/html": [
       "<pre style=\"white-space:pre;overflow-x:auto;line-height:normal;font-family:Menlo,'DejaVu Sans Mono',consolas,'Courier New',monospace\">\n",
       "</pre>\n"
      ],
      "text/plain": [
       "\n"
      ]
     },
     "metadata": {},
     "output_type": "display_data"
    },
    {
     "data": {
      "text/html": [
       "<pre style=\"white-space:pre;overflow-x:auto;line-height:normal;font-family:Menlo,'DejaVu Sans Mono',consolas,'Courier New',monospace\"><span style=\"color: #008080; text-decoration-color: #008080; font-weight: bold\">🚀 Crew: crew</span>\n",
       "├── <span style=\"color: #008000; text-decoration-color: #008000; font-weight: bold\">📋 Task: 1bfc5ee5-f6ea-49f8-93a4-77f528c5e22a</span>\n",
       "│   <span style=\"color: #c0c0c0; text-decoration-color: #c0c0c0\">   Assigned to: </span><span style=\"color: #008000; text-decoration-color: #008000\">AI Researcher</span>\n",
       "│   <span style=\"color: #c0c0c0; text-decoration-color: #c0c0c0\">   Status: </span><span style=\"color: #008000; text-decoration-color: #008000; font-weight: bold\">✅ Completed</span>\n",
       "├── <span style=\"color: #008000; text-decoration-color: #008000; font-weight: bold\">📋 Task: 2703c591-6255-4225-8389-4f7181ec3604</span>\n",
       "│   <span style=\"color: #c0c0c0; text-decoration-color: #c0c0c0\">   Assigned to: </span><span style=\"color: #008000; text-decoration-color: #008000\">AI Policy Analyst</span>\n",
       "│   <span style=\"color: #c0c0c0; text-decoration-color: #c0c0c0\">   Status: </span><span style=\"color: #008000; text-decoration-color: #008000; font-weight: bold\">✅ Completed</span>\n",
       "│   ├── <span style=\"color: #008000; text-decoration-color: #008000; font-weight: bold\">🤖 Agent: </span><span style=\"color: #008000; text-decoration-color: #008000\">AI Researcher</span>\n",
       "│   │   <span style=\"color: #c0c0c0; text-decoration-color: #c0c0c0\">    Status: </span><span style=\"color: #008000; text-decoration-color: #008000; font-weight: bold\">In Progress</span>\n",
       "│   │   └── <span style=\"color: #000080; text-decoration-color: #000080; font-weight: bold\">🧠 </span><span style=\"color: #000080; text-decoration-color: #000080\">Thinking...</span>\n",
       "│   └── <span style=\"color: #008000; text-decoration-color: #008000; font-weight: bold\">🤖 Agent: </span><span style=\"color: #008000; text-decoration-color: #008000\">AI Policy Analyst</span>\n",
       "│       <span style=\"color: #c0c0c0; text-decoration-color: #c0c0c0\">    Status: </span><span style=\"color: #008000; text-decoration-color: #008000; font-weight: bold\">✅ Completed</span>\n",
       "└── <span style=\"color: #808000; text-decoration-color: #808000; font-weight: bold\">📋 Task: 7b4df0f8-cb31-4a8e-9ea4-3ac9f83264f7</span>\n",
       "    <span style=\"color: #c0c0c0; text-decoration-color: #c0c0c0\">   Status: </span><span style=\"color: #bfbf7f; text-decoration-color: #bfbf7f\">Executing Task...</span>\n",
       "    └── <span style=\"color: #008000; text-decoration-color: #008000; font-weight: bold\">🤖 Agent: </span><span style=\"color: #008000; text-decoration-color: #008000\">AI Report Writer</span>\n",
       "        <span style=\"color: #c0c0c0; text-decoration-color: #c0c0c0\">    Status: </span><span style=\"color: #008000; text-decoration-color: #008000; font-weight: bold\">In Progress</span>\n",
       "</pre>\n"
      ],
      "text/plain": [
       "\u001b[1;36m🚀 Crew: \u001b[0m\u001b[1;36mcrew\u001b[0m\n",
       "├── \u001b[1;32m📋 Task: 1bfc5ee5-f6ea-49f8-93a4-77f528c5e22a\u001b[0m\n",
       "│   \u001b[37m   Assigned to: \u001b[0m\u001b[32mAI Researcher\u001b[0m\n",
       "│   \u001b[37m   Status: \u001b[0m\u001b[1;32m✅ Completed\u001b[0m\n",
       "├── \u001b[1;32m📋 Task: 2703c591-6255-4225-8389-4f7181ec3604\u001b[0m\n",
       "│   \u001b[37m   Assigned to: \u001b[0m\u001b[32mAI Policy Analyst\u001b[0m\n",
       "│   \u001b[37m   Status: \u001b[0m\u001b[1;32m✅ Completed\u001b[0m\n",
       "│   ├── \u001b[1;32m🤖 Agent: \u001b[0m\u001b[32mAI Researcher\u001b[0m\n",
       "│   │   \u001b[37m    Status: \u001b[0m\u001b[1;32mIn Progress\u001b[0m\n",
       "│   │   └── \u001b[1;34m🧠 \u001b[0m\u001b[34mThinking...\u001b[0m\n",
       "│   └── \u001b[1;32m🤖 Agent: \u001b[0m\u001b[32mAI Policy Analyst\u001b[0m\n",
       "│       \u001b[37m    Status: \u001b[0m\u001b[1;32m✅ Completed\u001b[0m\n",
       "└── \u001b[1;33m📋 Task: 7b4df0f8-cb31-4a8e-9ea4-3ac9f83264f7\u001b[0m\n",
       "    \u001b[37m   Status: \u001b[0m\u001b[2;33mExecuting Task...\u001b[0m\n",
       "    └── \u001b[1;32m🤖 Agent: \u001b[0m\u001b[32mAI Report Writer\u001b[0m\n",
       "        \u001b[37m    Status: \u001b[0m\u001b[1;32mIn Progress\u001b[0m\n"
      ]
     },
     "metadata": {},
     "output_type": "display_data"
    },
    {
     "data": {
      "text/html": [
       "<pre style=\"white-space:pre;overflow-x:auto;line-height:normal;font-family:Menlo,'DejaVu Sans Mono',consolas,'Courier New',monospace\">\n",
       "</pre>\n"
      ],
      "text/plain": [
       "\n"
      ]
     },
     "metadata": {},
     "output_type": "display_data"
    },
    {
     "name": "stdout",
     "output_type": "stream",
     "text": [
      "\u001b[1m\u001b[95m# Agent:\u001b[00m \u001b[1m\u001b[92mAI Report Writer\u001b[00m\n",
      "\u001b[95m## Task:\u001b[00m \u001b[92mWrite a report summarizing AI breakthroughs and regulations.\u001b[00m\n",
      "\n",
      "\n",
      "\u001b[1m\u001b[95m# Agent:\u001b[00m \u001b[1m\u001b[92mAI Report Writer\u001b[00m\n",
      "\u001b[95m## Final Answer:\u001b[00m \u001b[92m\n",
      "{  \n",
      "  \"executive_summary\": \"As of October 2023, the landscape of artificial intelligence (AI) has witnessed significant breakthroughs in technology, complemented by a progressive regulatory framework aimed at ensuring the safe and ethical deployment of these innovations. Key advancements include Meta's LLaMA 3, Google’s Gemini AI, and AI's impact on drug discovery and coding. Simultaneously, global regulations are evolving, with regions such as the European Union, United States, China, United Kingdom, and Canada introducing critical guidelines to govern AI’s development and use responsibly. These efforts emphasize the need for transparency, accountability, and ethical considerations in AI applications, ensuring that technological progress aligns with societal values.\",\n",
      "  \"key_trends\": [  \n",
      "    \"Introduction of models like Meta's LLaMA 3, demonstrating significant advancements in natural language understanding and generation.\",  \n",
      "    \"Google's Gemini AI showcased enhanced multimodal capabilities, integrating text, images, and sound processing for more holistic AI applications.\",  \n",
      "    \"OpenAI's ChatGPT updates now enable better contextual understanding and real-time language translation, improving user interactions across diverse languages.\",  \n",
      "    \"DeepMind's AlphaCode achieved remarkable success in coding competitions, indicating a new level of proficiency in automated programming.\",  \n",
      "    \"Advancements in AI ethics with the establishment of standardized ethical frameworks by AI organizations to guide responsible AI development and deployment.\",  \n",
      "    \"The rise of quantum computing's intersection with AI, particularly in optimizing machine learning algorithms, offering unprecedented processing power.\",  \n",
      "    \"Breakthroughs in AI-driven drug discovery, with algorithms efficiently predicting molecular interactions, significantly shortening the timeline for new pharmaceuticals.\",  \n",
      "    \"The emergence of self-supervised learning techniques in image and video recognition, leading to improved accuracy and reduced need for labeled training data.\",  \n",
      "    \"European Union's AI Act ensuring safe AI development and defining risk-based classifications.\",  \n",
      "    \"United States' Algorithmic Accountability Act addressing biases in AI and requiring impact assessments.\",  \n",
      "    \"China's AI Development Plan focusing on ethical guidelines and data security measures.\",  \n",
      "    \"United Kingdom's regulatory principles for AI promoting fairness, transparency, and accountability in business practices.\",  \n",
      "    \"Canada's Directive on Automated Decision-Making managing risks in government AI systems.\"  \n",
      "  ]  \n",
      "}\u001b[00m\n",
      "\n",
      "\n"
     ]
    },
    {
     "data": {
      "text/html": [
       "<pre style=\"white-space:pre;overflow-x:auto;line-height:normal;font-family:Menlo,'DejaVu Sans Mono',consolas,'Courier New',monospace\"><span style=\"color: #008080; text-decoration-color: #008080; font-weight: bold\">🚀 Crew: crew</span>\n",
       "├── <span style=\"color: #008000; text-decoration-color: #008000; font-weight: bold\">📋 Task: 1bfc5ee5-f6ea-49f8-93a4-77f528c5e22a</span>\n",
       "│   <span style=\"color: #c0c0c0; text-decoration-color: #c0c0c0\">   Assigned to: </span><span style=\"color: #008000; text-decoration-color: #008000\">AI Researcher</span>\n",
       "│   <span style=\"color: #c0c0c0; text-decoration-color: #c0c0c0\">   Status: </span><span style=\"color: #008000; text-decoration-color: #008000; font-weight: bold\">✅ Completed</span>\n",
       "├── <span style=\"color: #008000; text-decoration-color: #008000; font-weight: bold\">📋 Task: 2703c591-6255-4225-8389-4f7181ec3604</span>\n",
       "│   <span style=\"color: #c0c0c0; text-decoration-color: #c0c0c0\">   Assigned to: </span><span style=\"color: #008000; text-decoration-color: #008000\">AI Policy Analyst</span>\n",
       "│   <span style=\"color: #c0c0c0; text-decoration-color: #c0c0c0\">   Status: </span><span style=\"color: #008000; text-decoration-color: #008000; font-weight: bold\">✅ Completed</span>\n",
       "│   ├── <span style=\"color: #008000; text-decoration-color: #008000; font-weight: bold\">🤖 Agent: </span><span style=\"color: #008000; text-decoration-color: #008000\">AI Researcher</span>\n",
       "│   │   <span style=\"color: #c0c0c0; text-decoration-color: #c0c0c0\">    Status: </span><span style=\"color: #008000; text-decoration-color: #008000; font-weight: bold\">In Progress</span>\n",
       "│   │   └── <span style=\"color: #000080; text-decoration-color: #000080; font-weight: bold\">🧠 </span><span style=\"color: #000080; text-decoration-color: #000080\">Thinking...</span>\n",
       "│   └── <span style=\"color: #008000; text-decoration-color: #008000; font-weight: bold\">🤖 Agent: </span><span style=\"color: #008000; text-decoration-color: #008000\">AI Policy Analyst</span>\n",
       "│       <span style=\"color: #c0c0c0; text-decoration-color: #c0c0c0\">    Status: </span><span style=\"color: #008000; text-decoration-color: #008000; font-weight: bold\">✅ Completed</span>\n",
       "└── <span style=\"color: #808000; text-decoration-color: #808000; font-weight: bold\">📋 Task: 7b4df0f8-cb31-4a8e-9ea4-3ac9f83264f7</span>\n",
       "    <span style=\"color: #c0c0c0; text-decoration-color: #c0c0c0\">   Status: </span><span style=\"color: #bfbf7f; text-decoration-color: #bfbf7f\">Executing Task...</span>\n",
       "    └── <span style=\"color: #008000; text-decoration-color: #008000; font-weight: bold\">🤖 Agent: </span><span style=\"color: #008000; text-decoration-color: #008000\">AI Report Writer</span>\n",
       "        <span style=\"color: #c0c0c0; text-decoration-color: #c0c0c0\">    Status: </span><span style=\"color: #008000; text-decoration-color: #008000; font-weight: bold\">✅ Completed</span>\n",
       "</pre>\n"
      ],
      "text/plain": [
       "\u001b[1;36m🚀 Crew: \u001b[0m\u001b[1;36mcrew\u001b[0m\n",
       "├── \u001b[1;32m📋 Task: 1bfc5ee5-f6ea-49f8-93a4-77f528c5e22a\u001b[0m\n",
       "│   \u001b[37m   Assigned to: \u001b[0m\u001b[32mAI Researcher\u001b[0m\n",
       "│   \u001b[37m   Status: \u001b[0m\u001b[1;32m✅ Completed\u001b[0m\n",
       "├── \u001b[1;32m📋 Task: 2703c591-6255-4225-8389-4f7181ec3604\u001b[0m\n",
       "│   \u001b[37m   Assigned to: \u001b[0m\u001b[32mAI Policy Analyst\u001b[0m\n",
       "│   \u001b[37m   Status: \u001b[0m\u001b[1;32m✅ Completed\u001b[0m\n",
       "│   ├── \u001b[1;32m🤖 Agent: \u001b[0m\u001b[32mAI Researcher\u001b[0m\n",
       "│   │   \u001b[37m    Status: \u001b[0m\u001b[1;32mIn Progress\u001b[0m\n",
       "│   │   └── \u001b[1;34m🧠 \u001b[0m\u001b[34mThinking...\u001b[0m\n",
       "│   └── \u001b[1;32m🤖 Agent: \u001b[0m\u001b[32mAI Policy Analyst\u001b[0m\n",
       "│       \u001b[37m    Status: \u001b[0m\u001b[1;32m✅ Completed\u001b[0m\n",
       "└── \u001b[1;33m📋 Task: 7b4df0f8-cb31-4a8e-9ea4-3ac9f83264f7\u001b[0m\n",
       "    \u001b[37m   Status: \u001b[0m\u001b[2;33mExecuting Task...\u001b[0m\n",
       "    └── \u001b[1;32m🤖 Agent: \u001b[0m\u001b[32mAI Report Writer\u001b[0m\n",
       "        \u001b[37m    Status: \u001b[0m\u001b[1;32m✅ Completed\u001b[0m\n"
      ]
     },
     "metadata": {},
     "output_type": "display_data"
    },
    {
     "data": {
      "text/html": [
       "<pre style=\"white-space:pre;overflow-x:auto;line-height:normal;font-family:Menlo,'DejaVu Sans Mono',consolas,'Courier New',monospace\">\n",
       "</pre>\n"
      ],
      "text/plain": [
       "\n"
      ]
     },
     "metadata": {},
     "output_type": "display_data"
    },
    {
     "data": {
      "text/html": [
       "<pre style=\"white-space:pre;overflow-x:auto;line-height:normal;font-family:Menlo,'DejaVu Sans Mono',consolas,'Courier New',monospace\"><span style=\"color: #008080; text-decoration-color: #008080; font-weight: bold\">🚀 Crew: crew</span>\n",
       "├── <span style=\"color: #008000; text-decoration-color: #008000; font-weight: bold\">📋 Task: 1bfc5ee5-f6ea-49f8-93a4-77f528c5e22a</span>\n",
       "│   <span style=\"color: #c0c0c0; text-decoration-color: #c0c0c0\">   Assigned to: </span><span style=\"color: #008000; text-decoration-color: #008000\">AI Researcher</span>\n",
       "│   <span style=\"color: #c0c0c0; text-decoration-color: #c0c0c0\">   Status: </span><span style=\"color: #008000; text-decoration-color: #008000; font-weight: bold\">✅ Completed</span>\n",
       "├── <span style=\"color: #008000; text-decoration-color: #008000; font-weight: bold\">📋 Task: 2703c591-6255-4225-8389-4f7181ec3604</span>\n",
       "│   <span style=\"color: #c0c0c0; text-decoration-color: #c0c0c0\">   Assigned to: </span><span style=\"color: #008000; text-decoration-color: #008000\">AI Policy Analyst</span>\n",
       "│   <span style=\"color: #c0c0c0; text-decoration-color: #c0c0c0\">   Status: </span><span style=\"color: #008000; text-decoration-color: #008000; font-weight: bold\">✅ Completed</span>\n",
       "│   ├── <span style=\"color: #008000; text-decoration-color: #008000; font-weight: bold\">🤖 Agent: </span><span style=\"color: #008000; text-decoration-color: #008000\">AI Researcher</span>\n",
       "│   │   <span style=\"color: #c0c0c0; text-decoration-color: #c0c0c0\">    Status: </span><span style=\"color: #008000; text-decoration-color: #008000; font-weight: bold\">In Progress</span>\n",
       "│   │   └── <span style=\"color: #000080; text-decoration-color: #000080; font-weight: bold\">🧠 </span><span style=\"color: #000080; text-decoration-color: #000080\">Thinking...</span>\n",
       "│   └── <span style=\"color: #008000; text-decoration-color: #008000; font-weight: bold\">🤖 Agent: </span><span style=\"color: #008000; text-decoration-color: #008000\">AI Policy Analyst</span>\n",
       "│       <span style=\"color: #c0c0c0; text-decoration-color: #c0c0c0\">    Status: </span><span style=\"color: #008000; text-decoration-color: #008000; font-weight: bold\">✅ Completed</span>\n",
       "└── <span style=\"color: #008000; text-decoration-color: #008000; font-weight: bold\">📋 Task: 7b4df0f8-cb31-4a8e-9ea4-3ac9f83264f7</span>\n",
       "    <span style=\"color: #c0c0c0; text-decoration-color: #c0c0c0\">   Assigned to: </span><span style=\"color: #008000; text-decoration-color: #008000\">AI Report Writer</span>\n",
       "    <span style=\"color: #c0c0c0; text-decoration-color: #c0c0c0\">   Status: </span><span style=\"color: #008000; text-decoration-color: #008000; font-weight: bold\">✅ Completed</span>\n",
       "    └── <span style=\"color: #008000; text-decoration-color: #008000; font-weight: bold\">🤖 Agent: </span><span style=\"color: #008000; text-decoration-color: #008000\">AI Report Writer</span>\n",
       "        <span style=\"color: #c0c0c0; text-decoration-color: #c0c0c0\">    Status: </span><span style=\"color: #008000; text-decoration-color: #008000; font-weight: bold\">✅ Completed</span>\n",
       "</pre>\n"
      ],
      "text/plain": [
       "\u001b[1;36m🚀 Crew: \u001b[0m\u001b[1;36mcrew\u001b[0m\n",
       "├── \u001b[1;32m📋 Task: 1bfc5ee5-f6ea-49f8-93a4-77f528c5e22a\u001b[0m\n",
       "│   \u001b[37m   Assigned to: \u001b[0m\u001b[32mAI Researcher\u001b[0m\n",
       "│   \u001b[37m   Status: \u001b[0m\u001b[1;32m✅ Completed\u001b[0m\n",
       "├── \u001b[1;32m📋 Task: 2703c591-6255-4225-8389-4f7181ec3604\u001b[0m\n",
       "│   \u001b[37m   Assigned to: \u001b[0m\u001b[32mAI Policy Analyst\u001b[0m\n",
       "│   \u001b[37m   Status: \u001b[0m\u001b[1;32m✅ Completed\u001b[0m\n",
       "│   ├── \u001b[1;32m🤖 Agent: \u001b[0m\u001b[32mAI Researcher\u001b[0m\n",
       "│   │   \u001b[37m    Status: \u001b[0m\u001b[1;32mIn Progress\u001b[0m\n",
       "│   │   └── \u001b[1;34m🧠 \u001b[0m\u001b[34mThinking...\u001b[0m\n",
       "│   └── \u001b[1;32m🤖 Agent: \u001b[0m\u001b[32mAI Policy Analyst\u001b[0m\n",
       "│       \u001b[37m    Status: \u001b[0m\u001b[1;32m✅ Completed\u001b[0m\n",
       "└── \u001b[1;32m📋 Task: 7b4df0f8-cb31-4a8e-9ea4-3ac9f83264f7\u001b[0m\n",
       "    \u001b[37m   Assigned to: \u001b[0m\u001b[32mAI Report Writer\u001b[0m\n",
       "    \u001b[37m   Status: \u001b[0m\u001b[1;32m✅ Completed\u001b[0m\n",
       "    └── \u001b[1;32m🤖 Agent: \u001b[0m\u001b[32mAI Report Writer\u001b[0m\n",
       "        \u001b[37m    Status: \u001b[0m\u001b[1;32m✅ Completed\u001b[0m\n"
      ]
     },
     "metadata": {},
     "output_type": "display_data"
    },
    {
     "data": {
      "text/html": [
       "<pre style=\"white-space:pre;overflow-x:auto;line-height:normal;font-family:Menlo,'DejaVu Sans Mono',consolas,'Courier New',monospace\"><span style=\"color: #008000; text-decoration-color: #008000\">╭──────────────────────────────────────────────── Task Completion ────────────────────────────────────────────────╮</span>\n",
       "<span style=\"color: #008000; text-decoration-color: #008000\">│</span>                                                                                                                 <span style=\"color: #008000; text-decoration-color: #008000\">│</span>\n",
       "<span style=\"color: #008000; text-decoration-color: #008000\">│</span>  <span style=\"color: #008000; text-decoration-color: #008000; font-weight: bold\">Task Completed</span>                                                                                                 <span style=\"color: #008000; text-decoration-color: #008000\">│</span>\n",
       "<span style=\"color: #008000; text-decoration-color: #008000\">│</span>  <span style=\"color: #c0c0c0; text-decoration-color: #c0c0c0\">Name: </span><span style=\"color: #008000; text-decoration-color: #008000\">7b4df0f8-cb31-4a8e-9ea4-3ac9f83264f7</span>                                                                     <span style=\"color: #008000; text-decoration-color: #008000\">│</span>\n",
       "<span style=\"color: #008000; text-decoration-color: #008000\">│</span>  <span style=\"color: #c0c0c0; text-decoration-color: #c0c0c0\">Agent: </span><span style=\"color: #008000; text-decoration-color: #008000\">AI Report Writer</span>                                                                                        <span style=\"color: #008000; text-decoration-color: #008000\">│</span>\n",
       "<span style=\"color: #008000; text-decoration-color: #008000\">│</span>                                                                                                                 <span style=\"color: #008000; text-decoration-color: #008000\">│</span>\n",
       "<span style=\"color: #008000; text-decoration-color: #008000\">│</span>                                                                                                                 <span style=\"color: #008000; text-decoration-color: #008000\">│</span>\n",
       "<span style=\"color: #008000; text-decoration-color: #008000\">╰─────────────────────────────────────────────────────────────────────────────────────────────────────────────────╯</span>\n",
       "</pre>\n"
      ],
      "text/plain": [
       "\u001b[32m╭─\u001b[0m\u001b[32m───────────────────────────────────────────────\u001b[0m\u001b[32m Task Completion \u001b[0m\u001b[32m───────────────────────────────────────────────\u001b[0m\u001b[32m─╮\u001b[0m\n",
       "\u001b[32m│\u001b[0m                                                                                                                 \u001b[32m│\u001b[0m\n",
       "\u001b[32m│\u001b[0m  \u001b[1;32mTask Completed\u001b[0m                                                                                                 \u001b[32m│\u001b[0m\n",
       "\u001b[32m│\u001b[0m  \u001b[37mName: \u001b[0m\u001b[32m7b4df0f8-cb31-4a8e-9ea4-3ac9f83264f7\u001b[0m                                                                     \u001b[32m│\u001b[0m\n",
       "\u001b[32m│\u001b[0m  \u001b[37mAgent: \u001b[0m\u001b[32mAI Report Writer\u001b[0m                                                                                        \u001b[32m│\u001b[0m\n",
       "\u001b[32m│\u001b[0m                                                                                                                 \u001b[32m│\u001b[0m\n",
       "\u001b[32m│\u001b[0m                                                                                                                 \u001b[32m│\u001b[0m\n",
       "\u001b[32m╰─────────────────────────────────────────────────────────────────────────────────────────────────────────────────╯\u001b[0m\n"
      ]
     },
     "metadata": {},
     "output_type": "display_data"
    },
    {
     "data": {
      "text/html": [
       "<pre style=\"white-space:pre;overflow-x:auto;line-height:normal;font-family:Menlo,'DejaVu Sans Mono',consolas,'Courier New',monospace\">\n",
       "</pre>\n"
      ],
      "text/plain": [
       "\n"
      ]
     },
     "metadata": {},
     "output_type": "display_data"
    },
    {
     "data": {
      "text/html": [
       "<pre style=\"white-space:pre;overflow-x:auto;line-height:normal;font-family:Menlo,'DejaVu Sans Mono',consolas,'Courier New',monospace\"><span style=\"color: #008000; text-decoration-color: #008000\">╭──────────────────────────────────────────────── Crew Completion ────────────────────────────────────────────────╮</span>\n",
       "<span style=\"color: #008000; text-decoration-color: #008000\">│</span>                                                                                                                 <span style=\"color: #008000; text-decoration-color: #008000\">│</span>\n",
       "<span style=\"color: #008000; text-decoration-color: #008000\">│</span>  <span style=\"color: #008000; text-decoration-color: #008000; font-weight: bold\">Crew Execution Completed</span>                                                                                       <span style=\"color: #008000; text-decoration-color: #008000\">│</span>\n",
       "<span style=\"color: #008000; text-decoration-color: #008000\">│</span>  <span style=\"color: #c0c0c0; text-decoration-color: #c0c0c0\">Name: </span><span style=\"color: #008000; text-decoration-color: #008000\">crew</span>                                                                                                     <span style=\"color: #008000; text-decoration-color: #008000\">│</span>\n",
       "<span style=\"color: #008000; text-decoration-color: #008000\">│</span>  <span style=\"color: #c0c0c0; text-decoration-color: #c0c0c0\">ID: </span><span style=\"color: #008000; text-decoration-color: #008000\">ec2b690c-68fa-4ef2-b8ff-b05309104619</span>                                                                       <span style=\"color: #008000; text-decoration-color: #008000\">│</span>\n",
       "<span style=\"color: #008000; text-decoration-color: #008000\">│</span>                                                                                                                 <span style=\"color: #008000; text-decoration-color: #008000\">│</span>\n",
       "<span style=\"color: #008000; text-decoration-color: #008000\">│</span>                                                                                                                 <span style=\"color: #008000; text-decoration-color: #008000\">│</span>\n",
       "<span style=\"color: #008000; text-decoration-color: #008000\">╰─────────────────────────────────────────────────────────────────────────────────────────────────────────────────╯</span>\n",
       "</pre>\n"
      ],
      "text/plain": [
       "\u001b[32m╭─\u001b[0m\u001b[32m───────────────────────────────────────────────\u001b[0m\u001b[32m Crew Completion \u001b[0m\u001b[32m───────────────────────────────────────────────\u001b[0m\u001b[32m─╮\u001b[0m\n",
       "\u001b[32m│\u001b[0m                                                                                                                 \u001b[32m│\u001b[0m\n",
       "\u001b[32m│\u001b[0m  \u001b[1;32mCrew Execution Completed\u001b[0m                                                                                       \u001b[32m│\u001b[0m\n",
       "\u001b[32m│\u001b[0m  \u001b[37mName: \u001b[0m\u001b[32mcrew\u001b[0m                                                                                                     \u001b[32m│\u001b[0m\n",
       "\u001b[32m│\u001b[0m  \u001b[37mID: \u001b[0m\u001b[32mec2b690c-68fa-4ef2-b8ff-b05309104619\u001b[0m                                                                       \u001b[32m│\u001b[0m\n",
       "\u001b[32m│\u001b[0m                                                                                                                 \u001b[32m│\u001b[0m\n",
       "\u001b[32m│\u001b[0m                                                                                                                 \u001b[32m│\u001b[0m\n",
       "\u001b[32m╰─────────────────────────────────────────────────────────────────────────────────────────────────────────────────╯\u001b[0m\n"
      ]
     },
     "metadata": {},
     "output_type": "display_data"
    },
    {
     "data": {
      "text/html": [
       "<pre style=\"white-space:pre;overflow-x:auto;line-height:normal;font-family:Menlo,'DejaVu Sans Mono',consolas,'Courier New',monospace\">\n",
       "</pre>\n"
      ],
      "text/plain": [
       "\n"
      ]
     },
     "metadata": {},
     "output_type": "display_data"
    }
   ],
   "source": [
    "from crewai import Crew\n",
    "\n",
    "ai_research_crew = Crew(\n",
    "    agents=[research_agent, regulation_agent, writer_agent],\n",
    "    tasks=[research_ai_task, research_regulation_task, generate_report_task],\n",
    "    verbose=True\n",
    ")\n",
    "\n",
    "# Execute the workflow\n",
    "result = ai_research_crew.kickoff()"
   ]
  },
  {
   "cell_type": "code",
   "execution_count": 12,
   "id": "ad0071bf",
   "metadata": {},
   "outputs": [
    {
     "name": "stdout",
     "output_type": "stream",
     "text": [
      "\n",
      "=== Generated AI Report ===\n"
     ]
    },
    {
     "data": {
      "text/markdown": [
       "{  \n",
       "  \"executive_summary\": \"As of October 2023, the landscape of artificial intelligence (AI) has witnessed significant breakthroughs in technology, complemented by a progressive regulatory framework aimed at ensuring the safe and ethical deployment of these innovations. Key advancements include Meta's LLaMA 3, Google’s Gemini AI, and AI's impact on drug discovery and coding. Simultaneously, global regulations are evolving, with regions such as the European Union, United States, China, United Kingdom, and Canada introducing critical guidelines to govern AI’s development and use responsibly. These efforts emphasize the need for transparency, accountability, and ethical considerations in AI applications, ensuring that technological progress aligns with societal values.\",\n",
       "  \"key_trends\": [  \n",
       "    \"Introduction of models like Meta's LLaMA 3, demonstrating significant advancements in natural language understanding and generation.\",  \n",
       "    \"Google's Gemini AI showcased enhanced multimodal capabilities, integrating text, images, and sound processing for more holistic AI applications.\",  \n",
       "    \"OpenAI's ChatGPT updates now enable better contextual understanding and real-time language translation, improving user interactions across diverse languages.\",  \n",
       "    \"DeepMind's AlphaCode achieved remarkable success in coding competitions, indicating a new level of proficiency in automated programming.\",  \n",
       "    \"Advancements in AI ethics with the establishment of standardized ethical frameworks by AI organizations to guide responsible AI development and deployment.\",  \n",
       "    \"The rise of quantum computing's intersection with AI, particularly in optimizing machine learning algorithms, offering unprecedented processing power.\",  \n",
       "    \"Breakthroughs in AI-driven drug discovery, with algorithms efficiently predicting molecular interactions, significantly shortening the timeline for new pharmaceuticals.\",  \n",
       "    \"The emergence of self-supervised learning techniques in image and video recognition, leading to improved accuracy and reduced need for labeled training data.\",  \n",
       "    \"European Union's AI Act ensuring safe AI development and defining risk-based classifications.\",  \n",
       "    \"United States' Algorithmic Accountability Act addressing biases in AI and requiring impact assessments.\",  \n",
       "    \"China's AI Development Plan focusing on ethical guidelines and data security measures.\",  \n",
       "    \"United Kingdom's regulatory principles for AI promoting fairness, transparency, and accountability in business practices.\",  \n",
       "    \"Canada's Directive on Automated Decision-Making managing risks in government AI systems.\"  \n",
       "  ]  \n",
       "}"
      ],
      "text/plain": [
       "<IPython.core.display.Markdown object>"
      ]
     },
     "execution_count": 12,
     "metadata": {},
     "output_type": "execute_result"
    }
   ],
   "source": [
    "print(\"\\n=== Generated AI Report ===\")\n",
    "from IPython.display import Markdown\n",
    "Markdown(result.raw)"
   ]
  },
  {
   "cell_type": "code",
   "execution_count": 14,
   "id": "3d388966",
   "metadata": {},
   "outputs": [
    {
     "data": {
      "text/plain": [
       "TaskOutput(description='Write a report summarizing AI breakthroughs and regulations.', name=None, expected_output='A final AI report summarizing both aspects.', summary='Write a report summarizing AI breakthroughs and regulations....', raw='{  \\n  \"executive_summary\": \"As of October 2023, the landscape of artificial intelligence (AI) has witnessed significant breakthroughs in technology, complemented by a progressive regulatory framework aimed at ensuring the safe and ethical deployment of these innovations. Key advancements include Meta\\'s LLaMA 3, Google’s Gemini AI, and AI\\'s impact on drug discovery and coding. Simultaneously, global regulations are evolving, with regions such as the European Union, United States, China, United Kingdom, and Canada introducing critical guidelines to govern AI’s development and use responsibly. These efforts emphasize the need for transparency, accountability, and ethical considerations in AI applications, ensuring that technological progress aligns with societal values.\",\\n  \"key_trends\": [  \\n    \"Introduction of models like Meta\\'s LLaMA 3, demonstrating significant advancements in natural language understanding and generation.\",  \\n    \"Google\\'s Gemini AI showcased enhanced multimodal capabilities, integrating text, images, and sound processing for more holistic AI applications.\",  \\n    \"OpenAI\\'s ChatGPT updates now enable better contextual understanding and real-time language translation, improving user interactions across diverse languages.\",  \\n    \"DeepMind\\'s AlphaCode achieved remarkable success in coding competitions, indicating a new level of proficiency in automated programming.\",  \\n    \"Advancements in AI ethics with the establishment of standardized ethical frameworks by AI organizations to guide responsible AI development and deployment.\",  \\n    \"The rise of quantum computing\\'s intersection with AI, particularly in optimizing machine learning algorithms, offering unprecedented processing power.\",  \\n    \"Breakthroughs in AI-driven drug discovery, with algorithms efficiently predicting molecular interactions, significantly shortening the timeline for new pharmaceuticals.\",  \\n    \"The emergence of self-supervised learning techniques in image and video recognition, leading to improved accuracy and reduced need for labeled training data.\",  \\n    \"European Union\\'s AI Act ensuring safe AI development and defining risk-based classifications.\",  \\n    \"United States\\' Algorithmic Accountability Act addressing biases in AI and requiring impact assessments.\",  \\n    \"China\\'s AI Development Plan focusing on ethical guidelines and data security measures.\",  \\n    \"United Kingdom\\'s regulatory principles for AI promoting fairness, transparency, and accountability in business practices.\",  \\n    \"Canada\\'s Directive on Automated Decision-Making managing risks in government AI systems.\"  \\n  ]  \\n}', pydantic=FinalAIReport(executive_summary=\"As of October 2023, the landscape of artificial intelligence (AI) has witnessed significant breakthroughs in technology, complemented by a progressive regulatory framework aimed at ensuring the safe and ethical deployment of these innovations. Key advancements include Meta's LLaMA 3, Google’s Gemini AI, and AI's impact on drug discovery and coding. Simultaneously, global regulations are evolving, with regions such as the European Union, United States, China, United Kingdom, and Canada introducing critical guidelines to govern AI’s development and use responsibly. These efforts emphasize the need for transparency, accountability, and ethical considerations in AI applications, ensuring that technological progress aligns with societal values.\", key_trends=[\"Introduction of models like Meta's LLaMA 3, demonstrating significant advancements in natural language understanding and generation.\", \"Google's Gemini AI showcased enhanced multimodal capabilities, integrating text, images, and sound processing for more holistic AI applications.\", \"OpenAI's ChatGPT updates now enable better contextual understanding and real-time language translation, improving user interactions across diverse languages.\", \"DeepMind's AlphaCode achieved remarkable success in coding competitions, indicating a new level of proficiency in automated programming.\", 'Advancements in AI ethics with the establishment of standardized ethical frameworks by AI organizations to guide responsible AI development and deployment.', \"The rise of quantum computing's intersection with AI, particularly in optimizing machine learning algorithms, offering unprecedented processing power.\", 'Breakthroughs in AI-driven drug discovery, with algorithms efficiently predicting molecular interactions, significantly shortening the timeline for new pharmaceuticals.', 'The emergence of self-supervised learning techniques in image and video recognition, leading to improved accuracy and reduced need for labeled training data.', \"European Union's AI Act ensuring safe AI development and defining risk-based classifications.\", \"United States' Algorithmic Accountability Act addressing biases in AI and requiring impact assessments.\", \"China's AI Development Plan focusing on ethical guidelines and data security measures.\", \"United Kingdom's regulatory principles for AI promoting fairness, transparency, and accountability in business practices.\", \"Canada's Directive on Automated Decision-Making managing risks in government AI systems.\"]), json_dict=None, agent='AI Report Writer', output_format=<OutputFormat.PYDANTIC: 'pydantic'>)"
      ]
     },
     "execution_count": 14,
     "metadata": {},
     "output_type": "execute_result"
    }
   ],
   "source": [
    "generate_report_task.output"
   ]
  },
  {
   "cell_type": "code",
   "execution_count": null,
   "id": "59d70bd2",
   "metadata": {},
   "outputs": [],
   "source": []
  }
 ],
 "metadata": {
  "kernelspec": {
   "display_name": "agents",
   "language": "python",
   "name": "python3"
  },
  "language_info": {
   "codemirror_mode": {
    "name": "ipython",
    "version": 3
   },
   "file_extension": ".py",
   "mimetype": "text/x-python",
   "name": "python",
   "nbconvert_exporter": "python",
   "pygments_lexer": "ipython3",
   "version": "3.11.11"
  }
 },
 "nbformat": 4,
 "nbformat_minor": 5
}
