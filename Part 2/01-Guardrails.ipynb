{
 "cells": [
  {
   "cell_type": "markdown",
   "id": "0e8cd8c4",
   "metadata": {},
   "source": [
    "### Guardails For Structured Output"
   ]
  },
  {
   "cell_type": "code",
   "execution_count": 1,
   "id": "fd26d1fd",
   "metadata": {},
   "outputs": [],
   "source": [
    "from pydantic import BaseModel\n",
    "\n",
    "class ResearchReport(BaseModel):\n",
    "    \"\"\"Represents a structured research report\"\"\"\n",
    "    title: str\n",
    "    summary: str\n",
    "    key_findings: list[str]"
   ]
  },
  {
   "cell_type": "code",
   "execution_count": 2,
   "id": "cbe0d0d5",
   "metadata": {},
   "outputs": [],
   "source": [
    "import json\n",
    "from typing import Tuple, Any\n",
    "\n",
    "def validate_json_report(task_output):\n",
    "    \"\"\"\"\"\"\n",
    "    try:\n",
    "        # Parse JSON output\n",
    "        data = json.loads(task_output.pydantic.model_dump_json())\n",
    "\n",
    "        # Check required fields\n",
    "        if \"title\" not in data or \"summary\" not in data or \"key_findings\" not in data:\n",
    "            return (False, \"Missing required fields: title, summary, or key_findings.\")\n",
    "\n",
    "        return (True, task_output)\n",
    "        \n",
    "    except json.JSONDecodeError:\n",
    "        return (False, \"Invalid JSON format. Please ensure correct syntax.\")"
   ]
  },
  {
   "cell_type": "markdown",
   "id": "8f7dcb5d",
   "metadata": {},
   "source": [
    "### Create Agent & Tasks"
   ]
  },
  {
   "cell_type": "code",
   "execution_count": 3,
   "id": "fd1436e6",
   "metadata": {},
   "outputs": [],
   "source": [
    "from crewai import Agent\n",
    "\n",
    "# Create the AI Agent\n",
    "research_report_agent = Agent(\n",
    "    role=\"Research Analyst\",\n",
    "    goal=\"Generate structured JSON reports for research papers\",\n",
    "    backstory=\"You are an expert in structured reporting.\",\n",
    "    verbose=False)\n",
    "\n",
    "\n",
    "from crewai import Task\n",
    "\n",
    "research_report_task = Task(\n",
    "    description=\"Generate a structured JSON research report\",\n",
    "    expected_output=\"A JSON with 'title', 'summary', and 'key_findings'.\",\n",
    "    agent=research_report_agent,\n",
    "    output_pydantic=ResearchReport,\n",
    "    guardrail=validate_json_report,\n",
    "    max_retries=3\n",
    ")"
   ]
  },
  {
   "cell_type": "code",
   "execution_count": null,
   "id": "314d4054",
   "metadata": {},
   "outputs": [],
   "source": []
  }
 ],
 "metadata": {
  "kernelspec": {
   "display_name": "agents",
   "language": "python",
   "name": "python3"
  },
  "language_info": {
   "codemirror_mode": {
    "name": "ipython",
    "version": 3
   },
   "file_extension": ".py",
   "mimetype": "text/x-python",
   "name": "python",
   "nbconvert_exporter": "python",
   "pygments_lexer": "ipython3",
   "version": "3.11.11"
  }
 },
 "nbformat": 4,
 "nbformat_minor": 5
}
