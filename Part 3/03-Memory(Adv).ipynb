{
 "cells": [
  {
   "cell_type": "markdown",
   "id": "23332dd6",
   "metadata": {},
   "source": [
    "# Memory In Agents\n",
    "\n",
    "### Setup"
   ]
  },
  {
   "cell_type": "code",
   "execution_count": 1,
   "id": "73e082da",
   "metadata": {},
   "outputs": [],
   "source": [
    "# !pip install crewai\n",
    "# !pip install crewai-tools\n",
    "\n",
    "\n",
    "# Installing it to see traces(Found some issues with passing knowledge at crew level)\n",
    "# !pip install langtrace-python-sdk"
   ]
  },
  {
   "cell_type": "code",
   "execution_count": 2,
   "id": "5fe1149e",
   "metadata": {},
   "outputs": [],
   "source": [
    "# ollama pull llama3.2:1b"
   ]
  },
  {
   "cell_type": "markdown",
   "id": "8616fad4",
   "metadata": {},
   "source": [
    "### Imports"
   ]
  },
  {
   "cell_type": "code",
   "execution_count": 3,
   "id": "9eebec3f",
   "metadata": {},
   "outputs": [
    {
     "data": {
      "text/plain": [
       "True"
      ]
     },
     "execution_count": 3,
     "metadata": {},
     "output_type": "execute_result"
    }
   ],
   "source": [
    "from dotenv import load_dotenv\n",
    "import os\n",
    "\n",
    "load_dotenv()"
   ]
  },
  {
   "cell_type": "code",
   "execution_count": 4,
   "id": "5e011e9e",
   "metadata": {},
   "outputs": [],
   "source": [
    "import nest_asyncio\n",
    "nest_asyncio.apply()"
   ]
  },
  {
   "cell_type": "code",
   "execution_count": 6,
   "id": "0633dc91",
   "metadata": {},
   "outputs": [],
   "source": [
    "from crewai import Crew, Agent, Task, Process"
   ]
  },
  {
   "cell_type": "markdown",
   "id": "79bf3786",
   "metadata": {},
   "source": [
    "## Short-Term Momory\n"
   ]
  },
  {
   "cell_type": "code",
   "execution_count": null,
   "id": "1ec116b1",
   "metadata": {},
   "outputs": [],
   "source": [
    "from crewai import Crew, Agent, Task, Process\n",
    "from crewai.memory import ShortTermMemory\n",
    "from crewai.memory.storage.rag_storage import RAGStorage\n",
    "\n",
    "shared_db = \"./short_term_memory.db\"\n",
    "\n",
    "storage = RAGStorage(path=shared_db, type=\"short_term\")\n",
    "\n",
    "short_term_memory = ShortTermMemory(storage=storage)"
   ]
  },
  {
   "cell_type": "code",
   "execution_count": null,
   "id": "21fcd029",
   "metadata": {},
   "outputs": [],
   "source": [
    "agent = Agent(\n",
    "    role=\"A Personal Assistant\",\n",
    "    goal=\"\"\"You are a personal assistant that can\n",
    "            help the user with their tasks.\"\"\",\n",
    "    backstory=\"\"\"You are a personal assistant that\n",
    "                can help the user with their tasks.\"\"\",\n",
    "    verbose=True\n",
    ")\n",
    "\n",
    "task = Task(\n",
    "    description=\"Handle this task: {user_task}\",\n",
    "    expected_output=\"A clear and concise answer to the question.\",\n",
    "    agent=agent\n",
    ")\n",
    "\n",
    "\n",
    "crew = Crew(\n",
    "    agents=[agent], \n",
    "    tasks=[task], \n",
    "    process=Process.sequential,\n",
    "    memory=True,\n",
    "    short_term_memory=short_term_memory     # Define the short term memory\n",
    ")\n",
    "\n",
    "crew.kickoff(inputs={\"user_task\": \"My favorite color is #46778F.\"})"
   ]
  },
  {
   "cell_type": "markdown",
   "id": "03c2e89f",
   "metadata": {},
   "source": [
    "## Long-Term Memory\n"
   ]
  },
  {
   "cell_type": "code",
   "execution_count": null,
   "id": "511d5802",
   "metadata": {},
   "outputs": [],
   "source": [
    "from crewai import Crew, Agent, Task, Process\n",
    "from crewai.memory import LongTermMemory\n",
    "from crewai.memory.storage.ltm_sqlite_storage import LTMSQLiteStorage"
   ]
  },
  {
   "cell_type": "code",
   "execution_count": null,
   "id": "b3bf20fb",
   "metadata": {},
   "outputs": [],
   "source": [
    "shared_db = \"./agent_memory.db\"\n",
    "\n",
    "storage = LTMSQLiteStorage(db_path=shared_db)\n",
    "\n",
    "long_memory = LongTermMemory(storage=storage)"
   ]
  },
  {
   "cell_type": "code",
   "execution_count": null,
   "id": "82a96f54",
   "metadata": {},
   "outputs": [],
   "source": [
    "agent = Agent(\n",
    "    role=\"A Personal Assistant\",\n",
    "    goal=\"\"\"You are a personal assistant that can\n",
    "            help the user with their tasks.\"\"\",\n",
    "    backstory=\"\"\"You are a personal assistant that\n",
    "                can help the user with their tasks.\"\"\",\n",
    "    verbose=True\n",
    ")\n",
    "\n",
    "task = Task(\n",
    "    description=\"Handle this task: {user_task}\",\n",
    "    expected_output=\"A clear and concise answer to the question.\",\n",
    "    agent=agent\n",
    ")\n",
    "\n",
    "\n",
    "crew = Crew(\n",
    "    agents=[agent], \n",
    "    tasks=[task], \n",
    "    process=Process.sequential,\n",
    "    memory=True,\n",
    "    long_term_memory=long_memory    # Define the long term memory\n",
    ")\n",
    "\n",
    "crew.kickoff(inputs={\"user_task\": \"My favorite color is #46778F.\"})"
   ]
  }
 ],
 "metadata": {
  "kernelspec": {
   "display_name": "agents",
   "language": "python",
   "name": "python3"
  },
  "language_info": {
   "codemirror_mode": {
    "name": "ipython",
    "version": 3
   },
   "file_extension": ".py",
   "mimetype": "text/x-python",
   "name": "python",
   "nbconvert_exporter": "python",
   "pygments_lexer": "ipython3",
   "version": "3.11.11"
  }
 },
 "nbformat": 4,
 "nbformat_minor": 5
}
