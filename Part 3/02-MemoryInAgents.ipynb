{
 "cells": [
  {
   "cell_type": "markdown",
   "id": "2ad55439",
   "metadata": {},
   "source": [
    "# Memory In Agents\n",
    "\n",
    "### Setup"
   ]
  },
  {
   "cell_type": "code",
   "execution_count": null,
   "id": "909b1087",
   "metadata": {},
   "outputs": [],
   "source": [
    "# !pip install crewai\n",
    "# !pip install crewai-tools\n",
    "\n",
    "\n",
    "# Installing it to see traces(Found some issues with passing knowledge at crew level)\n",
    "# !pip install langtrace-python-sdk"
   ]
  },
  {
   "cell_type": "code",
   "execution_count": null,
   "id": "e8f2bad7",
   "metadata": {},
   "outputs": [],
   "source": [
    "# ollama pull llama3.2:1b"
   ]
  },
  {
   "cell_type": "markdown",
   "id": "41d9ec93",
   "metadata": {},
   "source": [
    "### Imports"
   ]
  },
  {
   "cell_type": "code",
   "execution_count": 12,
   "id": "9b710d1c",
   "metadata": {},
   "outputs": [
    {
     "data": {
      "text/plain": [
       "True"
      ]
     },
     "execution_count": 12,
     "metadata": {},
     "output_type": "execute_result"
    }
   ],
   "source": [
    "from dotenv import load_dotenv\n",
    "import os\n",
    "\n",
    "load_dotenv()"
   ]
  },
  {
   "cell_type": "code",
   "execution_count": 13,
   "id": "47c2b7c0",
   "metadata": {},
   "outputs": [],
   "source": [
    "import nest_asyncio\n",
    "nest_asyncio.apply()"
   ]
  },
  {
   "cell_type": "code",
   "execution_count": 14,
   "id": "302ddf47",
   "metadata": {},
   "outputs": [],
   "source": [
    "from crewai import Crew, Agent, Task, Process"
   ]
  },
  {
   "cell_type": "markdown",
   "id": "532c872a",
   "metadata": {},
   "source": [
    "### Define Agent, Task & Crew"
   ]
  },
  {
   "cell_type": "code",
   "execution_count": 15,
   "id": "6256940e",
   "metadata": {},
   "outputs": [],
   "source": [
    "# Define a simple agent (assuming a default LLM agent)\n",
    "assistant = Agent(\n",
    "    role=\"Personal Assistant\",\n",
    "    goal=\"\"\"You are a personal assistant that can help the user with their tasks.\"\"\",\n",
    "    backstory=\"\"\"You are a personal assistant that can help the user with their tasks.\"\"\",\n",
    "    verbose=True\n",
    ")\n",
    "\n",
    "task = Task(\n",
    "    description=\"Handle this task: {user_task}\",\n",
    "    expected_output=\"A clear and concise answer to the question.\",\n",
    "    agent=assistant\n",
    ")\n",
    "\n",
    "# Create a crew with memory enabled\n",
    "crew = Crew(\n",
    "    agents=[assistant], \n",
    "    tasks=[task], \n",
    "    process=Process.sequential,\n",
    "    memory=True,                   # Enable memory for the crew\n",
    "    verbose=True\n",
    ")"
   ]
  },
  {
   "cell_type": "code",
   "execution_count": 17,
   "id": "77133dfe",
   "metadata": {},
   "outputs": [
    {
     "name": "stdout",
     "output_type": "stream",
     "text": [
      "My favorite color is #46778F and my favorite Agent framework is CrewAI.\n"
     ]
    }
   ],
   "source": [
    "user_input = \"\"\"My favorite color is #46778F and\n",
    "                my favorite Agent framework is CrewAI.\"\"\"\n",
    "\n",
    "result = crew.kickoff(inputs={\"user_task\": user_input})\n",
    "\n",
    "print(result)"
   ]
  },
  {
   "cell_type": "code",
   "execution_count": 26,
   "id": "47e1fae1",
   "metadata": {},
   "outputs": [
    {
     "name": "stdout",
     "output_type": "stream",
     "text": [
      "My favorite color is #46778F.\n"
     ]
    }
   ],
   "source": [
    "# Test for memroy\n",
    "user_input = \"\"\"Tell me about my fav color?\"\"\"\n",
    "\n",
    "result = crew.kickoff(inputs={\"user_task\": user_input})\n",
    "print(result)"
   ]
  },
  {
   "cell_type": "markdown",
   "id": "569427e0",
   "metadata": {},
   "source": [
    "### Let's explore a bit"
   ]
  },
  {
   "cell_type": "code",
   "execution_count": 27,
   "id": "16809002",
   "metadata": {},
   "outputs": [
    {
     "data": {
      "text/plain": [
       "ShortTermMemory(embedder_config=None, crew=None, storage=<crewai.memory.storage.rag_storage.RAGStorage object at 0x129b6a810>)"
      ]
     },
     "execution_count": 27,
     "metadata": {},
     "output_type": "execute_result"
    }
   ],
   "source": [
    "crew._short_term_memory"
   ]
  },
  {
   "cell_type": "code",
   "execution_count": 28,
   "id": "4c238243",
   "metadata": {},
   "outputs": [
    {
     "data": {
      "text/plain": [
       "[{'id': '811f61e8-d01c-4c90-ab94-d336e6c5a178',\n",
       "  'metadata': {'agent': 'Personal Assistant',\n",
       "   'observation': 'Handle this task: Tell me my name?'},\n",
       "  'context': 'I now can give a great answer  \\nFinal Answer: I do not have the information about your name. Please let me know your name so I can assist you better.',\n",
       "  'score': 1.0544429682308243},\n",
       " {'id': '1c42b58c-a925-41ff-a7a1-35fcb825c1e1',\n",
       "  'metadata': {'agent': 'Personal Assistant',\n",
       "   'observation': 'Handle this task: Tell me about my fav color?'},\n",
       "  'context': 'I now can give a great answer  \\nFinal Answer: My favorite color is #46778F.',\n",
       "  'score': 1.5027365687628105},\n",
       " {'id': '43208560-e59d-47c6-a3c6-e1f17feecd08',\n",
       "  'metadata': {'agent': 'Personal Assistant',\n",
       "   'observation': 'Handle this task: What is my favorite color?'},\n",
       "  'context': 'I now can give a great answer  \\nFinal Answer: My favorite color is #46778F and my favorite Agent framework is CrewAI.',\n",
       "  'score': 1.505280258617871}]"
      ]
     },
     "execution_count": 28,
     "metadata": {},
     "output_type": "execute_result"
    }
   ],
   "source": [
    "crew._short_term_memory.search(\"What is my name?\")"
   ]
  },
  {
   "cell_type": "code",
   "execution_count": 29,
   "id": "c458ba8e",
   "metadata": {},
   "outputs": [
    {
     "data": {
      "text/plain": [
       "LongTermMemory(embedder_config=None, crew=None, storage=<crewai.memory.storage.ltm_sqlite_storage.LTMSQLiteStorage object at 0x129af0650>)"
      ]
     },
     "execution_count": 29,
     "metadata": {},
     "output_type": "execute_result"
    }
   ],
   "source": [
    "crew._long_term_memory"
   ]
  },
  {
   "cell_type": "code",
   "execution_count": null,
   "id": "662ac2f8",
   "metadata": {},
   "outputs": [],
   "source": []
  }
 ],
 "metadata": {
  "kernelspec": {
   "display_name": "agents",
   "language": "python",
   "name": "python3"
  },
  "language_info": {
   "codemirror_mode": {
    "name": "ipython",
    "version": 3
   },
   "file_extension": ".py",
   "mimetype": "text/x-python",
   "name": "python",
   "nbconvert_exporter": "python",
   "pygments_lexer": "ipython3",
   "version": "3.11.11"
  }
 },
 "nbformat": 4,
 "nbformat_minor": 5
}
